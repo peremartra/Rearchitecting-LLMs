{
  "nbformat": 4,
  "nbformat_minor": 0,
  "metadata": {
    "colab": {
      "provenance": [],
      "machine_shape": "hm",
      "gpuType": "L4",
      "authorship_tag": "ABX9TyOjnnuvcG46eKyBqkLskokR",
      "include_colab_link": true
    },
    "kernelspec": {
      "name": "python3",
      "display_name": "Python 3"
    },
    "language_info": {
      "name": "python"
    },
    "accelerator": "GPU"
  },
  "cells": [
    {
      "cell_type": "markdown",
      "metadata": {
        "id": "view-in-github",
        "colab_type": "text"
      },
      "source": [
        "<a href=\"https://colab.research.google.com/github/peremartra/Rearchitecting-LLMs/blob/main/CH02/CH02_NB02_Knowledge_Recovery.ipynb\" target=\"_parent\"><img src=\"https://colab.research.google.com/assets/colab-badge.svg\" alt=\"Open In Colab\"/></a>"
      ]
    },
    {
      "cell_type": "markdown",
      "source": [
        "# **Rearchitecting LLMs**\n",
        "## **Surgical Optimization for Hyper-Efficient Models**\n",
        "\n",
        "### **Chapter 2: Knowledge Recovery via Distillation**\n",
        "by [Pere Martra](https://github.com/peremartra)\n",
        "\n",
        "[![LinkedIn](https://img.shields.io/badge/LinkedIn-0077B5?style=flat&logo=linkedin&logoColor=white)](https://www.linkedin.com/in/pere-martra/) [![GitHub](https://img.shields.io/badge/GitHub-100000?style=flat&logo=github&logoColor=white)](https://github.com/peremartra) [![Hugging Face](https://img.shields.io/badge/🤗%20Hugging%20Face-blue)](https://huggingface.co/oopere)\n",
        "\n",
        "___\n",
        "\n",
        "**Colab Environment:** GPU T4  \n",
        "- **Models recommended:** google/gemma-3-270m  \n",
        "- **Tested with:** meta-llama/Llama-3.2-1B using a **GPU A100**\n",
        "\n",
        "---\n",
        "\n",
        "Welcome to the second part of your first model rearchitecture. In the previous notebook, we successfully performed depth pruning by removing layers from our model, achieving significant efficiency gains but experiencing expected performance degradation.\n",
        "\n",
        "Now we'll complete the optimization cycle by recovering the lost knowledge through Knowledge Distillation (KD). This notebook demonstrates how a pruned model can learn to mimic the behavior of its original, unpruned version.\n",
        "\n",
        "**What we'll accomplish:**\n",
        "- **Load our models**: Original (teacher) and pruned (student) from the previous notebook\n",
        "- **Prepare recovery data**: Prepare a general-purpose dataset (SlimPajama) to facilitate the knowledge transfer.\n",
        "- **Apply Knowledge Distillation**: Train the pruned model to recover lost capabilities\n",
        "- **Measure recovery**: Quantify how much performance we can restore\n",
        "\n",
        "This notebook bridges the gap between \"breaking\" a model (pruning) and \"fixing\" it (recovery), completing your first end-to-end model tailoring workflow.\n",
        "\n",
        "**Previous notebook:** [CH02_NB01_Depth_pruning_evaluation](https://github.com/peremartra/Rearchitecting-LLMs/blob/main/CH02/CH02_NB01_Depth_pruning_evaluation.ipynb)\n",
        "**Connection:** We'll use the exact same models and evaluation framework to measure our recovery success.\n"
      ],
      "metadata": {
        "id": "7hULT_n96KoD"
      }
    },
    {
      "cell_type": "code",
      "execution_count": null,
      "metadata": {
        "colab": {
          "base_uri": "https://localhost:8080/"
        },
        "id": "d0OhWq985W0i",
        "outputId": "d9fa1cf3-3b8c-4342-dc49-43029b2aa335"
      },
      "outputs": [
        {
          "output_type": "stream",
          "name": "stdout",
          "text": [
            "\u001b[2K     \u001b[90m━━━━━━━━━━━━━━━━━━━━━━━━━━━━━━━━━━━━━━━━\u001b[0m \u001b[32m53.6/53.6 kB\u001b[0m \u001b[31m3.6 MB/s\u001b[0m eta \u001b[36m0:00:00\u001b[0m\n",
            "\u001b[?25h  Preparing metadata (setup.py) ... \u001b[?25l\u001b[?25hdone\n",
            "\u001b[2K     \u001b[90m━━━━━━━━━━━━━━━━━━━━━━━━━━━━━━━━━━━━━━━━\u001b[0m \u001b[32m51.8/51.8 kB\u001b[0m \u001b[31m4.2 MB/s\u001b[0m eta \u001b[36m0:00:00\u001b[0m\n",
            "\u001b[?25h  Preparing metadata (setup.py) ... \u001b[?25l\u001b[?25hdone\n",
            "  Preparing metadata (setup.py) ... \u001b[?25l\u001b[?25hdone\n",
            "\u001b[2K   \u001b[90m━━━━━━━━━━━━━━━━━━━━━━━━━━━━━━━━━━━━━━━━\u001b[0m \u001b[32m40.0/40.0 kB\u001b[0m \u001b[31m3.2 MB/s\u001b[0m eta \u001b[36m0:00:00\u001b[0m\n",
            "\u001b[2K   \u001b[90m━━━━━━━━━━━━━━━━━━━━━━━━━━━━━━━━━━━━━━━━\u001b[0m \u001b[32m7.5/7.5 MB\u001b[0m \u001b[31m57.3 MB/s\u001b[0m eta \u001b[36m0:00:00\u001b[0m\n",
            "\u001b[2K   \u001b[90m━━━━━━━━━━━━━━━━━━━━━━━━━━━━━━━━━━━━━━━━\u001b[0m \u001b[32m491.5/491.5 kB\u001b[0m \u001b[31m38.1 MB/s\u001b[0m eta \u001b[36m0:00:00\u001b[0m\n",
            "\u001b[2K   \u001b[90m━━━━━━━━━━━━━━━━━━━━━━━━━━━━━━━━━━━━━━━━\u001b[0m \u001b[32m84.1/84.1 kB\u001b[0m \u001b[31m7.7 MB/s\u001b[0m eta \u001b[36m0:00:00\u001b[0m\n",
            "\u001b[2K   \u001b[90m━━━━━━━━━━━━━━━━━━━━━━━━━━━━━━━━━━━━━━━━\u001b[0m \u001b[32m293.6/293.6 kB\u001b[0m \u001b[31m26.3 MB/s\u001b[0m eta \u001b[36m0:00:00\u001b[0m\n",
            "\u001b[2K   \u001b[90m━━━━━━━━━━━━━━━━━━━━━━━━━━━━━━━━━━━━━━━━\u001b[0m \u001b[32m104.1/104.1 kB\u001b[0m \u001b[31m8.6 MB/s\u001b[0m eta \u001b[36m0:00:00\u001b[0m\n",
            "\u001b[2K   \u001b[90m━━━━━━━━━━━━━━━━━━━━━━━━━━━━━━━━━━━━━━━━\u001b[0m \u001b[32m91.1/91.1 kB\u001b[0m \u001b[31m8.9 MB/s\u001b[0m eta \u001b[36m0:00:00\u001b[0m\n",
            "\u001b[?25h  Building wheel for rouge-score (setup.py) ... \u001b[?25l\u001b[?25hdone\n",
            "  Building wheel for sqlitedict (setup.py) ... \u001b[?25l\u001b[?25hdone\n",
            "  Building wheel for word2number (setup.py) ... \u001b[?25l\u001b[?25hdone\n"
          ]
        }
      ],
      "source": [
        "# Libraries\n",
        "# Install required packages\n",
        "!pip install -q transformers torch optipfair datasets accelerate sentencepiece lm-eval"
      ]
    },
    {
      "cell_type": "code",
      "source": [
        "import torch\n",
        "import torch.nn as nn\n",
        "from transformers import AutoModelForCausalLM, AutoTokenizer\n",
        "from torch.optim import AdamW\n",
        "from optipfair import prune_model\n",
        "from datasets import load_dataset\n",
        "from torch.nn import functional as F\n",
        "from torch.utils.data import DataLoader\n",
        "from lm_eval import evaluator\n",
        "from lm_eval.models.huggingface import HFLM\n",
        "import time\n",
        "import json\n",
        "from typing import Dict, List, Any\n",
        "import copy\n",
        "\n",
        "# Check device\n",
        "device = torch.device('cuda' if torch.cuda.is_available() else 'cpu')\n",
        "print(f\"Using device: {device}\")\n",
        "if torch.cuda.is_available():\n",
        "    print(f\"GPU: {torch.cuda.get_device_name(0)}\")"
      ],
      "metadata": {
        "colab": {
          "base_uri": "https://localhost:8080/"
        },
        "id": "pl-L82JK9BhG",
        "outputId": "941eaea5-45fe-4d68-ba8a-69dd5a602f57"
      },
      "execution_count": null,
      "outputs": [
        {
          "output_type": "stream",
          "name": "stdout",
          "text": [
            "Using device: cuda\n",
            "GPU: NVIDIA L4\n"
          ]
        }
      ]
    },
    {
      "cell_type": "markdown",
      "source": [
        "# 2.4 Recovering knowledge with distillation"
      ],
      "metadata": {
        "id": "LRscks9QSEqt"
      }
    },
    {
      "cell_type": "markdown",
      "source": [
        "## Load Libraries & Models."
      ],
      "metadata": {
        "id": "MRj--518-Vkv"
      }
    },
    {
      "cell_type": "code",
      "source": [
        "# Model configuration (consistent with previous notebook)\n",
        "MODEL_NAME = \"google/gemma-3-270m\"\n",
        "#MODEL_NAME = \"meta-llama/Llama-3.2-1B\"\n",
        "MAX_NEW_TOKENS = 50\n",
        "LAYERS_TO_REMOVE = 2 #Try removing 4, 6, or even 8 layers\n",
        "TEST_PROMPT = \"Paris is the capital of\"\n",
        "\n",
        "print(f\"Loading base model: {MODEL_NAME}\")\n",
        "\n",
        "# Load the original model (this will be our TEACHER)\n",
        "teacher_model = AutoModelForCausalLM.from_pretrained(\n",
        "    MODEL_NAME,\n",
        "    device_map=\"auto\"\n",
        ")\n",
        "\n",
        "tokenizer = AutoTokenizer.from_pretrained(MODEL_NAME)\n",
        "if tokenizer.pad_token is None:\n",
        "    tokenizer.pad_token = tokenizer.eos_token\n",
        "\n",
        "# Clean generation config (same as previous notebook)\n",
        "from transformers import GenerationConfig\n",
        "clean_config = GenerationConfig(\n",
        "    max_length=teacher_model.generation_config.max_length,\n",
        "    pad_token_id=teacher_model.generation_config.pad_token_id,\n",
        "    eos_token_id=teacher_model.generation_config.eos_token_id,\n",
        "    do_sample=False,\n",
        "    num_beams=1,\n",
        "    early_stopping=False\n",
        ")\n",
        "teacher_model.generation_config = clean_config"
      ],
      "metadata": {
        "id": "0Js9yx_29Uv2"
      },
      "execution_count": null,
      "outputs": []
    },
    {
      "cell_type": "code",
      "source": [
        "original_params = sum(p.numel() for p in teacher_model.parameters())\n",
        "print(f\"Teacher model parameters: {original_params:,}\")\n",
        "print(f\"Teacher model layers: {len(teacher_model.model.layers)}\")"
      ],
      "metadata": {
        "colab": {
          "base_uri": "https://localhost:8080/"
        },
        "id": "9sNjhJ_X-LFJ",
        "outputId": "fb75e9af-de4b-4b87-e056-12c600e32b26"
      },
      "execution_count": null,
      "outputs": [
        {
          "output_type": "stream",
          "name": "stdout",
          "text": [
            "Teacher model parameters: 268,098,176\n",
            "Teacher model layers: 18\n"
          ]
        }
      ]
    },
    {
      "cell_type": "markdown",
      "source": [
        "### Create Student Model with optiPfair\n"
      ],
      "metadata": {
        "id": "heQC0dTP_UtK"
      }
    },
    {
      "cell_type": "code",
      "source": [
        "# Create the STUDENT model by pruning (same process as previous notebook)\n",
        "print(f\"\\nCreating student model by removing {LAYERS_TO_REMOVE} layers...\")\n",
        "\n",
        "# Apply depth pruning using optipfair\n",
        "student_model = prune_model(\n",
        "    model=copy.deepcopy(teacher_model),\n",
        "    pruning_type=\"DEPTH\",\n",
        "    num_layers_to_remove=LAYERS_TO_REMOVE,\n",
        "    layer_selection_method=\"last\",\n",
        "    show_progress=True\n",
        ")"
      ],
      "metadata": {
        "id": "oPdWmAal-STI",
        "colab": {
          "base_uri": "https://localhost:8080/"
        },
        "outputId": "16ad7bd0-d366-49bd-8dec-d0c04573fb48"
      },
      "execution_count": null,
      "outputs": [
        {
          "output_type": "stream",
          "name": "stdout",
          "text": [
            "\n",
            "Creating student model by removing 2 layers...\n"
          ]
        },
        {
          "output_type": "stream",
          "name": "stderr",
          "text": [
            "Removing layers: 100%|██████████| 18/18 [00:00<00:00, 200258.55it/s]\n"
          ]
        }
      ]
    },
    {
      "cell_type": "code",
      "source": [
        "student_params = sum(p.numel() for p in student_model.parameters())\n",
        "param_reduction = (original_params - student_params) / original_params\n",
        "\n",
        "print(f\"Student model parameters: {student_params:,}\")\n",
        "print(f\"Parameter reduction: {param_reduction:.1%}\")\n",
        "print(f\"Student model layers: {len(student_model.model.layers)}\")\n",
        "\n",
        "student_model.gradient_checkpointing_enable()"
      ],
      "metadata": {
        "colab": {
          "base_uri": "https://localhost:8080/"
        },
        "id": "mpaF1YAm_Lnl",
        "outputId": "1fe1a975-b2e3-484d-cbc4-697db407bf05"
      },
      "execution_count": null,
      "outputs": [
        {
          "output_type": "stream",
          "name": "stdout",
          "text": [
            "Student model parameters: 256,950,912\n",
            "Parameter reduction: 4.2%\n",
            "Student model layers: 16\n"
          ]
        }
      ]
    },
    {
      "cell_type": "markdown",
      "source": [
        "## Support Functions & Basic Test"
      ],
      "metadata": {
        "id": "-CKJcRUE_1LK"
      }
    },
    {
      "cell_type": "code",
      "source": [
        "def model_evaluation(model_obj, tokenizer, tasks, limit=100):\n",
        "    \"\"\"\n",
        "    Runs lm-eval on a PyTorch model object already in memory.\n",
        "\n",
        "    Args:\n",
        "        model_obj: The PyTorch model object to evaluate.\n",
        "        tokenizer: The tokenizer object.\n",
        "        tasks (list): A list of task names.\n",
        "        limit (int): The number of samples per task.\n",
        "    \"\"\"\n",
        "    print(f\"Starting lm-eval on model '{model_obj.config._name_or_path}' for tasks: {tasks}\")\n",
        "\n",
        "    # Wrap the local model object and tokenizer for lm-eval\n",
        "    model_wrapper = HFLM(\n",
        "        pretrained=model_obj,\n",
        "        tokenizer=tokenizer,\n",
        "        device=str(device)\n",
        "    )\n",
        "\n",
        "    results = evaluator.simple_evaluate(\n",
        "        model=model_wrapper,\n",
        "        tasks=tasks,\n",
        "        num_fewshot=0,\n",
        "        limit=limit,\n",
        "        device=str(device),\n",
        "    )\n",
        "\n",
        "    # Format results for clean display\n",
        "    formatted_results = {}\n",
        "    for task_name, res in results[\"results\"].items():\n",
        "        # Look for accuracy ('acc') first, then perplexity ('ppl')\n",
        "        if 'acc,none' in res:\n",
        "            metric_val = res.get('acc,none', 0)\n",
        "        elif 'ppl,none' in res:\n",
        "             metric_val = res.get('ppl,none', 0)\n",
        "        else:\n",
        "            metric_val = 0 # Fallback\n",
        "\n",
        "        formatted_results[task_name] = f\"{metric_val:.4f}\"\n",
        "\n",
        "    print(json.dumps(formatted_results, indent=2))\n",
        "    return formatted_results"
      ],
      "metadata": {
        "id": "8OWwlMgJHw49"
      },
      "execution_count": null,
      "outputs": []
    },
    {
      "cell_type": "code",
      "source": [
        "# Quick baseline test - confirm degradation from previous notebook\n",
        "def generate_text(model, tokenizer, prompt: str, max_new_tokens: int = MAX_NEW_TOKENS) -> str:\n",
        "    \"\"\"Generate text with the model (same function as previous notebook)\"\"\"\n",
        "    inputs = tokenizer(prompt, return_tensors='pt').to(device)\n",
        "    with torch.no_grad():\n",
        "        outputs = model.generate(\n",
        "            inputs['input_ids'],\n",
        "            attention_mask=inputs['attention_mask'],\n",
        "            max_new_tokens=max_new_tokens,\n",
        "            num_return_sequences=1,\n",
        "            pad_token_id=tokenizer.pad_token_id,\n",
        "            do_sample=False,\n",
        "            num_beams=3,\n",
        "            early_stopping=True,\n",
        "            no_repeat_ngram_size=2\n",
        "        )\n",
        "    return tokenizer.decode(outputs[0], skip_special_tokens=True)\n",
        "\n",
        "# Test both models with the same prompt\n",
        "print(f\"\\n--- Baseline Test: '{TEST_PROMPT}' ---\")\n",
        "teacher_output = generate_text(teacher_model, tokenizer, TEST_PROMPT)\n",
        "student_output = generate_text(student_model, tokenizer, TEST_PROMPT)\n",
        "\n",
        "print(f\"Teacher: '{teacher_output}'\")\n",
        "print(f\"Student: '{student_output}'\")\n",
        "print(\"\\nReady for knowledge recovery...\")"
      ],
      "metadata": {
        "colab": {
          "base_uri": "https://localhost:8080/"
        },
        "id": "lIFKAxxc_wTw",
        "outputId": "6eacc005-2f04-4172-e14b-26162aea68ff"
      },
      "execution_count": null,
      "outputs": [
        {
          "output_type": "stream",
          "name": "stdout",
          "text": [
            "\n",
            "--- Baseline Test: 'Paris is the capital of' ---\n",
            "Teacher: 'Paris is the capital of France. It is located in the middle of the country and has a population of about 10 million people. Paris is a city with a rich history and culture. The city is known for its beautiful architecture, art, and history. There are'\n",
            "Student: 'Paris is the capital of France and one of the largest cities in Europe. It occupies approximately 2.5 million hectares of land surrounded by mountains and forests. Parisians love to travel abroad because they enjoy sightseeing tours abroad. Tourists visiting Paris visit museums, monuments, theaters,'\n",
            "\n",
            "Ready for knowledge recovery...\n"
          ]
        }
      ]
    },
    {
      "cell_type": "markdown",
      "source": [
        "##Knowledge Distillation Process\n",
        "\n",
        "Before we begin the recovery process, let's review the performance impact from our depth pruning (results from the previous notebook):\n",
        "\n",
        "### Gemma-3-270m: Depth Pruning Impact\n",
        "\n",
        "| Metric | Original Model | Pruned Model (-2 Layers) | Pruned Model (-3 Layers) | Change (-2L) | Change (-3L) |\n",
        "|:-------|:---------------|:-------------------------|:-------------------------|:-------------|:-------------|\n",
        "| **Parameters** | 268,098,176 | 256,950,912 | 251,377,280 | **-4.16%** | **-6.24%** |\n",
        "| **Inference Time** | 10.324s | 4.322s | - | **+58.1%** | - |\n",
        "| **arc_easy** (acc) | 0.5500 | 0.4600 | 0.3800 | -16.36% | -30.91% |\n",
        "| **winogrande** (acc) | 0.6000 | 0.4800 | 0.5400 | -20.00% | -10.00% |\n",
        "| **boolq** (acc) | 0.6600 | 0.4500 | 0.7000 | -31.82% | **+6.06%** |\n",
        "| **lambada_openai** (acc) | 0.4200 | 0.3400 | 0.1800 | -19.05% | -57.14% |\n",
        "\n",
        "**Trade-off**: 58.1% faster inference + 4.16% parameter reduction vs. accuracy degradation across benchmarks.\n",
        "\n",
        "---"
      ],
      "metadata": {
        "id": "53R5rPihCMI4"
      }
    },
    {
      "cell_type": "markdown",
      "source": [
        "### LLaMA-3.2-1B: Depth Pruning Impact\n",
        "\n",
        "| Metric | Original Model | Pruned Model (-2 Layers) | Change |\n",
        "|:-------|:---------------|:-------------------------|:-------|\n",
        "| **Parameters** | 1,235,814,400 | 1,117,171,392 | **-9.84%** |\n",
        "| **Inference Time** | 6.635s | 4.752s | **+28.4%** |\n",
        "| **arc_easy** (acc) | 0.6600 | 0.4800 | -27.27% |\n",
        "| **winogrande** (acc) | 0.6000 | 0.5400 | -10.00% |\n",
        "| **boolq** (acc) | 0.6700 | 0.7000 | **+4.48%** |\n",
        "| **lambada_openai** (acc) | 0.5700 | 0.1700 | -70.18% |\n",
        "\n",
        "**Interesting observation**: LLaMA-3.2-1B shows a curious **improvement** in boolq (+4.48%) after pruning, suggesting some layers may have been introducing noise for this specific task.\n",
        "\n",
        "**Our KD goal**: Recover the lost performance while maintaining the efficiency gains from pruning."
      ],
      "metadata": {
        "id": "EC9kiV2cTwy_"
      }
    },
    {
      "cell_type": "markdown",
      "source": [
        "## Dataset Preparation\n"
      ],
      "metadata": {
        "id": "EJQW3EJ4Csol"
      }
    },
    {
      "cell_type": "code",
      "source": [
        "# Load SlimPajama dataset in streaming mode for efficiency\n",
        "print(\"Loading SlimPajama-627B dataset...\")\n",
        "dataset = load_dataset(\n",
        "    \"cerebras/SlimPajama-627B\",\n",
        "    split=\"train\",\n",
        "    streaming=True\n",
        ")\n",
        "\n",
        "# Take a representative subset for our recovery process\n",
        "#    You can reduce the number os samples to reduce the execution time\n",
        "#    but you'll see some reduction in lambada benchmark\n",
        "#    due to small number of examples\n",
        "RECOVERY_SAMPLES = 15000\n",
        "print(f\"Selecting {RECOVERY_SAMPLES:,} samples for knowledge recovery...\")\n",
        "\n",
        "# Use streaming dataset's take method - much more efficient!\n",
        "distillation_dataset = dataset.take(RECOVERY_SAMPLES)\n",
        "\n",
        "print(f\"✓ Streaming dataset ready: {RECOVERY_SAMPLES:,} samples\")"
      ],
      "metadata": {
        "id": "UBelN4lH_8Um"
      },
      "execution_count": null,
      "outputs": []
    },
    {
      "cell_type": "code",
      "source": [
        "def tokenize_for_kd(examples, max_length=128):\n",
        "    \"\"\"\n",
        "    Tokenize text for Knowledge Distillation.\n",
        "    Shorter sequences work better for KD as both teacher and student\n",
        "    need to fit in memory simultaneously.\n",
        "    \"\"\"\n",
        "    if isinstance(examples, dict):\n",
        "        texts = examples[\"text\"]\n",
        "    else:\n",
        "        texts = [ex[\"text\"] for ex in examples]\n",
        "\n",
        "    tokenized = tokenizer(\n",
        "        texts,\n",
        "        padding=\"max_length\",\n",
        "        truncation=True,\n",
        "        max_length=max_length,\n",
        "        return_tensors=\"pt\"\n",
        "    )\n",
        "\n",
        "    # For language modeling, labels = input_ids\n",
        "    return {\n",
        "        \"input_ids\": tokenized[\"input_ids\"],\n",
        "        \"attention_mask\": tokenized[\"attention_mask\"],\n",
        "        \"labels\": tokenized[\"input_ids\"].clone()\n",
        "    }\n",
        "\n",
        "# Process the recovery dataset\n",
        "print(\"Tokenizing recovery dataset...\")\n",
        "\n",
        "# Convert streaming dataset to list for tokenization\n",
        "recovery_samples = list(distillation_dataset)\n",
        "tokenized_data = tokenize_for_kd(recovery_samples)\n",
        "\n",
        "print(f\"✓ Tokenized {len(recovery_samples):,} samples\")\n",
        "\n",
        "# Convert to format suitable for DataLoader\n",
        "class KDDataset(torch.utils.data.Dataset):\n",
        "    def __init__(self, input_ids, attention_mask, labels):\n",
        "        self.input_ids = input_ids\n",
        "        self.attention_mask = attention_mask\n",
        "        self.labels = labels\n",
        "\n",
        "    def __len__(self):\n",
        "        return len(self.input_ids)\n",
        "\n",
        "    def __getitem__(self, idx):\n",
        "        return {\n",
        "            'input_ids': self.input_ids[idx],\n",
        "            'attention_mask': self.attention_mask[idx],\n",
        "            'labels': self.labels[idx]\n",
        "        }\n",
        "\n",
        "kd_dataset = KDDataset(\n",
        "    tokenized_data[\"input_ids\"],\n",
        "    tokenized_data[\"attention_mask\"],\n",
        "    tokenized_data[\"labels\"]\n",
        ")\n",
        "\n",
        "# Create DataLoader for training\n",
        "kd_dataloader = DataLoader(\n",
        "    kd_dataset,\n",
        "    batch_size=8,  # Small batch size due to memory constraints with two models\n",
        "    shuffle=True\n",
        ")\n",
        "\n",
        "print(f\"✓ Knowledge Distillation DataLoader ready: {len(kd_dataloader)} batches\")"
      ],
      "metadata": {
        "colab": {
          "base_uri": "https://localhost:8080/"
        },
        "id": "VELWqP8NEd3z",
        "outputId": "3c6283a0-36b7-438f-e321-b59571b396e7"
      },
      "execution_count": null,
      "outputs": [
        {
          "output_type": "stream",
          "name": "stdout",
          "text": [
            "Tokenizing recovery dataset...\n",
            "✓ Tokenized 15,000 samples\n",
            "✓ Knowledge Distillation DataLoader ready: 1875 batches\n"
          ]
        }
      ]
    },
    {
      "cell_type": "code",
      "source": [
        "# Move models to device and set appropriate modes\n",
        "teacher_model.to(device)\n",
        "student_model.to(device)\n",
        "\n",
        "# Teacher stays in eval mode - we don't train it\n",
        "teacher_model.eval()\n",
        "\n",
        "# Student will be trained\n",
        "student_model.train()\n",
        "\n",
        "# KD Hyperparameters\n",
        "TEMPERATURE = 2.0      # Softens probability distributions\n",
        "ALPHA = 1.0           # Weight for distillation loss\n",
        "NUM_EPOCHS = 3        # Conservative for demo\n",
        "LEARNING_RATE = 1e-5  # Lower LR for stability\n",
        "ACCUMULATION_STEPS = 4  # Effective batch size = 4 * 8 = 32\n",
        "\n",
        "# Optimizer for student model only\n",
        "optimizer = AdamW(student_model.parameters(), lr=LEARNING_RATE)\n",
        "\n",
        "print(f\"Knowledge Distillation Configuration:\")\n",
        "print(f\"  Temperature: {TEMPERATURE}\")\n",
        "print(f\"  Alpha: {ALPHA}\")\n",
        "print(f\"  Epochs: {NUM_EPOCHS}\")\n",
        "print(f\"  Learning Rate: {LEARNING_RATE}\")\n",
        "print(f\"  Effective Batch Size: {4 * ACCUMULATION_STEPS}\")"
      ],
      "metadata": {
        "colab": {
          "base_uri": "https://localhost:8080/"
        },
        "id": "mC38ykgpCuy9",
        "outputId": "232bd4d0-526c-494f-f375-e135ec8f3b3d"
      },
      "execution_count": null,
      "outputs": [
        {
          "output_type": "stream",
          "name": "stdout",
          "text": [
            "Knowledge Distillation Configuration:\n",
            "  Temperature: 2.0\n",
            "  Alpha: 1.0\n",
            "  Epochs: 3\n",
            "  Learning Rate: 1e-05\n",
            "  Effective Batch Size: 16\n"
          ]
        }
      ]
    },
    {
      "cell_type": "code",
      "source": [
        "print(f\"\\n🎓 Starting Knowledge Distillation Training...\")\n",
        "print(f\"Training student model to mimic teacher behavior \\n\")\n",
        "\n",
        "for epoch in range(NUM_EPOCHS):\n",
        "  student_model.train()\n",
        "  total_loss = 0\n",
        "  num_batches = 0\n",
        "  for batch_idx, batch in enumerate(kd_dataloader):\n",
        "    # ###Step 1: Move batch to device###\n",
        "    input_ids = batch['input_ids'].to(device)\n",
        "    attention_mask = batch['attention_mask'].to(device)\n",
        "\n",
        "    # Move teacher model to device, perform inference, and move back to CPU\n",
        "    teacher_model.to(device)\n",
        "\n",
        "    # ###Step 2: The Master is asked to generate its logits###\n",
        "    with torch.no_grad():\n",
        "      teacher_outputs = teacher_model(\n",
        "        input_ids=input_ids,\n",
        "        attention_mask=attention_mask\n",
        "      )\n",
        "      teacher_logits = teacher_outputs.logits / TEMPERATURE\n",
        "\n",
        "    # Moving teacher model to CPU to save memory.\n",
        "    teacher_model.cpu()\n",
        "    torch.cuda.empty_cache()\n",
        "\n",
        "    # ###Step 3: Get Student's \"thoughts\" (logits) with training enabled###\n",
        "    # Student inference (with gradients)\n",
        "    student_outputs = student_model(\n",
        "      input_ids=input_ids,\n",
        "      attention_mask=attention_mask\n",
        "    )\n",
        "    student_logits = student_outputs.logits / TEMPERATURE\n",
        "\n",
        "    # Compute Knowledge Distillation loss\n",
        "    teacher_probs = F.softmax(teacher_logits, dim=-1)\n",
        "    student_log_probs = F.log_softmax(student_logits, dim=-1)\n",
        "\n",
        "    # ###Step 4:\n",
        "    # KL Divergence loss\n",
        "    kd_loss = F.kl_div(\n",
        "      student_log_probs,\n",
        "      teacher_probs,\n",
        "      reduction='batchmean'\n",
        "    )\n",
        "\n",
        "    # Scale loss for gradient accumulation\n",
        "    loss = kd_loss / ACCUMULATION_STEPS\n",
        "    loss.backward()\n",
        "\n",
        "    # Gradient accumulation\n",
        "    if (batch_idx + 1) % ACCUMULATION_STEPS == 0 or (batch_idx + 1) == len(kd_dataloader):\n",
        "      optimizer.step()\n",
        "      optimizer.zero_grad()\n",
        "\n",
        "    total_loss += loss.item() * ACCUMULATION_STEPS\n",
        "    num_batches += 1\n",
        "    # Progress update\n",
        "\n",
        "    if (batch_idx + 1) % 100 == 0:\n",
        "      avg_loss = total_loss / num_batches\n",
        "      print(f'Epoch {epoch + 1}/{NUM_EPOCHS} | Batch {batch_idx + 1} | Loss: {avg_loss:.4f}')\n",
        "\n",
        "  # Epoch summary\n",
        "  avg_epoch_loss = total_loss / num_batches\n",
        "  print(f\"Epoch {epoch + 1}/{NUM_EPOCHS} | Average Loss: {avg_epoch_loss:.4f}\")\n",
        "\n",
        "print(f\"\\n🎉 Knowledge Distillation completed!\")"
      ],
      "metadata": {
        "colab": {
          "base_uri": "https://localhost:8080/"
        },
        "id": "DKAKi0K8B95H",
        "outputId": "fe525e34-a1be-4c9f-b0f9-f5caaef7236a"
      },
      "execution_count": null,
      "outputs": [
        {
          "output_type": "stream",
          "name": "stdout",
          "text": [
            "\n",
            "🎓 Starting Knowledge Distillation Training...\n",
            "Training student model to mimic teacher behavior \n",
            "\n"
          ]
        },
        {
          "output_type": "stream",
          "name": "stderr",
          "text": [
            "It is strongly recommended to train Gemma3 models with the `eager` attention implementation instead of `sdpa`. Use `eager` with `AutoModelForCausalLM.from_pretrained('<path-to-checkpoint>', attn_implementation='eager')`.\n",
            "`use_cache=True` is incompatible with gradient checkpointing. Setting `use_cache=False`.\n"
          ]
        },
        {
          "output_type": "stream",
          "name": "stdout",
          "text": [
            "Epoch 1/3 | Batch 100 | Loss: 94.4299\n",
            "Epoch 1/3 | Batch 200 | Loss: 72.0059\n",
            "Epoch 1/3 | Batch 300 | Loss: 62.3837\n",
            "Epoch 1/3 | Batch 400 | Loss: 55.9937\n",
            "Epoch 1/3 | Batch 500 | Loss: 51.7801\n",
            "Epoch 1/3 | Batch 600 | Loss: 48.7072\n",
            "Epoch 1/3 | Batch 700 | Loss: 46.3924\n",
            "Epoch 1/3 | Batch 800 | Loss: 44.3131\n",
            "Epoch 1/3 | Batch 900 | Loss: 42.4879\n",
            "Epoch 1/3 | Batch 1000 | Loss: 40.9765\n",
            "Epoch 1/3 | Batch 1100 | Loss: 39.5929\n",
            "Epoch 1/3 | Batch 1200 | Loss: 38.4040\n",
            "Epoch 1/3 | Batch 1300 | Loss: 37.3839\n",
            "Epoch 1/3 | Batch 1400 | Loss: 36.4694\n",
            "Epoch 1/3 | Batch 1500 | Loss: 35.5522\n",
            "Epoch 1/3 | Batch 1600 | Loss: 34.7488\n",
            "Epoch 1/3 | Batch 1700 | Loss: 34.0112\n",
            "Epoch 1/3 | Batch 1800 | Loss: 33.3981\n",
            "Epoch 1/3 | Average Loss: 32.9461\n",
            "Epoch 2/3 | Batch 100 | Loss: 21.1411\n",
            "Epoch 2/3 | Batch 200 | Loss: 20.8855\n",
            "Epoch 2/3 | Batch 300 | Loss: 20.3640\n",
            "Epoch 2/3 | Batch 400 | Loss: 20.2419\n",
            "Epoch 2/3 | Batch 500 | Loss: 20.2112\n",
            "Epoch 2/3 | Batch 600 | Loss: 20.2381\n",
            "Epoch 2/3 | Batch 700 | Loss: 20.2339\n",
            "Epoch 2/3 | Batch 800 | Loss: 20.1358\n",
            "Epoch 2/3 | Batch 900 | Loss: 20.0229\n",
            "Epoch 2/3 | Batch 1000 | Loss: 19.9758\n",
            "Epoch 2/3 | Batch 1100 | Loss: 19.8354\n",
            "Epoch 2/3 | Batch 1200 | Loss: 19.7583\n",
            "Epoch 2/3 | Batch 1300 | Loss: 19.6542\n",
            "Epoch 2/3 | Batch 1400 | Loss: 19.5778\n",
            "Epoch 2/3 | Batch 1500 | Loss: 19.5020\n",
            "Epoch 2/3 | Batch 1600 | Loss: 19.4051\n",
            "Epoch 2/3 | Batch 1700 | Loss: 19.3229\n",
            "Epoch 2/3 | Batch 1800 | Loss: 19.2388\n",
            "Epoch 2/3 | Average Loss: 19.1633\n",
            "Epoch 3/3 | Batch 100 | Loss: 17.0088\n",
            "Epoch 3/3 | Batch 200 | Loss: 16.8422\n",
            "Epoch 3/3 | Batch 300 | Loss: 16.7369\n",
            "Epoch 3/3 | Batch 400 | Loss: 16.9378\n",
            "Epoch 3/3 | Batch 500 | Loss: 17.0010\n",
            "Epoch 3/3 | Batch 600 | Loss: 16.8898\n",
            "Epoch 3/3 | Batch 700 | Loss: 16.7868\n",
            "Epoch 3/3 | Batch 800 | Loss: 16.7100\n",
            "Epoch 3/3 | Batch 900 | Loss: 16.6262\n",
            "Epoch 3/3 | Batch 1000 | Loss: 16.5402\n",
            "Epoch 3/3 | Batch 1100 | Loss: 16.5267\n",
            "Epoch 3/3 | Batch 1200 | Loss: 16.4363\n",
            "Epoch 3/3 | Batch 1300 | Loss: 16.4044\n",
            "Epoch 3/3 | Batch 1400 | Loss: 16.3477\n",
            "Epoch 3/3 | Batch 1500 | Loss: 16.2906\n",
            "Epoch 3/3 | Batch 1600 | Loss: 16.2369\n",
            "Epoch 3/3 | Batch 1700 | Loss: 16.1752\n",
            "Epoch 3/3 | Batch 1800 | Loss: 16.1095\n",
            "Epoch 3/3 | Average Loss: 16.1017\n",
            "\n",
            "🎉 Knowledge Distillation completed!\n"
          ]
        }
      ]
    },
    {
      "cell_type": "markdown",
      "source": [
        "## Basic Test generation."
      ],
      "metadata": {
        "id": "jww6LbeRHC1K"
      }
    },
    {
      "cell_type": "code",
      "source": [
        "# Set student model to evaluation mode\n",
        "teacher_model.to(device)\n",
        "student_model.eval()\n",
        "# Test with the same prompt used in baseline\n",
        "print(f\"--- Qualitative Test: '{TEST_PROMPT}' ---\")\n",
        "\n",
        "# Generate with all three models for comparison\n",
        "teacher_output = generate_text(teacher_model, tokenizer, TEST_PROMPT)\n",
        "student_baseline_output = generate_text(student_model, tokenizer, TEST_PROMPT)\n",
        "\n",
        "print(f\"Teacher (Original):    '{teacher_output}'\")\n",
        "print(f\"Student (Post-KD):     '{student_baseline_output}'\")"
      ],
      "metadata": {
        "colab": {
          "base_uri": "https://localhost:8080/"
        },
        "id": "1W0-J7MuFqiO",
        "outputId": "97589fd2-38ed-46af-9684-c9b8cf7583cf"
      },
      "execution_count": null,
      "outputs": [
        {
          "output_type": "stream",
          "name": "stdout",
          "text": [
            "--- Qualitative Test: 'Paris is the capital of' ---\n",
            "Teacher (Original):    'Paris is the capital of France. It is located in the middle of the country and has a population of about 10 million people. Paris is a city with a rich history and culture. The city is known for its beautiful architecture, art, and history. There are'\n",
            "Student (Post-KD):     'Paris is the capital of France and one of the most famous cities in the world. It is also the largest city in Europe and the third largest in France. The city is known for its beautiful architecture, rich culture, and vibrant nightlife. Paris is a popular destination for travelers'\n"
          ]
        }
      ]
    },
    {
      "cell_type": "markdown",
      "source": [
        "## Evaluation"
      ],
      "metadata": {
        "id": "-3Wi3YX5H9nQ"
      }
    },
    {
      "cell_type": "code",
      "source": [
        "# Define the benchmark suite for our diagnostic\n",
        "benchmark_tasks = ['arc_easy', 'winogrande', 'hellaswag', 'lambada_openai']\n",
        "student_recovered_results = model_evaluation(student_model, tokenizer, benchmark_tasks, limit=100)"
      ],
      "metadata": {
        "id": "xhPEAh9LHWl5"
      },
      "execution_count": null,
      "outputs": []
    },
    {
      "cell_type": "code",
      "source": [
        "student_recovered_results"
      ],
      "metadata": {
        "id": "tftSlgqbhqMJ",
        "outputId": "b3fc8817-a1cd-4fea-e008-64e636fb905b",
        "colab": {
          "base_uri": "https://localhost:8080/"
        }
      },
      "execution_count": null,
      "outputs": [
        {
          "output_type": "execute_result",
          "data": {
            "text/plain": [
              "{'arc_easy': '0.5200',\n",
              " 'hellaswag': '0.4100',\n",
              " 'lambada_openai': '0.3900',\n",
              " 'winogrande': '0.5800'}"
            ]
          },
          "metadata": {},
          "execution_count": 15
        }
      ]
    },
    {
      "cell_type": "markdown",
      "source": [
        "## Complete Knowledge Recovery Analysis"
      ],
      "metadata": {
        "id": "BYb9jAfHYPKZ"
      }
    },
    {
      "cell_type": "markdown",
      "source": [
        "## Results with 2 layers pruned\n",
        "\n",
        "| **Metric** | **Teacher (Original)** | **Student (-2L pruned)** | **Student (-2L, 500 samples)** | **Student (-2L, 15K samples)** | **Final Performance vs Original** |\n",
        "|------------|------------------------|--------------------------|--------------------------------|--------------------------------|-----------------------------------|\n",
        "| **Parameters** | 268,098,176 | 256,950,912 | 256,950,912 | 256,950,912 | **-4.16%** |\n",
        "| **arc_easy** (acc) | 0.5500 | 0.4600 | 0.4700 | **0.5200** | **94.5%** of original |\n",
        "| **hellaswag** (acc) | 0.4200 | - | - | **0.4100** | **97.6%** of original |\n",
        "| **lambada_openai** (acc) | 0.4200 | 0.3400 | 0.2600 | **0.3900** | **92.9%** of original |\n",
        "| **winogrande** (acc) | 0.6000 | 0.4800 | 0.5800 | **0.5800** | **96.7%** of original |"
      ],
      "metadata": {
        "id": "iAKuPGXmUTlO"
      }
    },
    {
      "cell_type": "markdown",
      "source": [
        "## Results with 3 layers pruned\n",
        "| Metric | Teacher (Original) | Student (-3L pruned) | Student (-3L, 5K samples) | Final Performance vs Original |\n",
        "|:-------|:-------------------|:---------------------|:--------------------------|:------------------------------|\n",
        "| **Parameters** | 268,098,176 | 251,377,280 | 251,377,280 | **-6.24%** |\n",
        "| **arc_easy** (acc) | 0.5500 | 0.3800 | **0.4700** | **85.5%** of original |\n",
        "| **winogrande** (acc) | 0.6000 | 0.5400 | **0.5800** | **96.7%** of original |\n",
        "| **boolq** (acc) | 0.6600 | 0.7000 | **0.6700** | **101.5%** of original |\n",
        "| **lambada_openai** (acc) | 0.4200 | 0.1800 | **0.3300** | **78.6%** of original |"
      ],
      "metadata": {
        "id": "Vo20AhGfWwiO"
      }
    },
    {
      "cell_type": "code",
      "source": [],
      "metadata": {
        "id": "z0k7tkDeG5TO"
      },
      "execution_count": null,
      "outputs": []
    },
    {
      "cell_type": "markdown",
      "source": [
        "## Results with 4 layers pruned\n",
        "\n",
        "| **Metric** | **Teacher (Original)** | **Student (-4L pruned)** | **Student (-4L, 5K samples)** | **Student (-4L, 15K samples)** | **Final Performance vs Original** |\n",
        "|------------|------------------------|--------------------------|--------------------------------|--------------------------------|-----------------------------------|\n",
        "| **Parameters** | 268,098,176 | 245,803,648 | 245,803,648 | 245,803,648 | **-8.31%** |\n",
        "| **arc_easy** (acc) | 0.5500 | 0.4100 | **0.4800** | **0.4300** | **78.2%** of original |\n",
        "| **hellaswag** (acc) | 0.4200 | 0.3100 | **0.3800** | **0.3600** | **85.7%** of original |\n",
        "| **lambada_openai** (acc) | 0.4200 | 0.2100 | **0.2700** | **0.3300** | **78.6%** of original |\n",
        "| **winogrande** (acc) | 0.6000 | 0.5300 | **0.5800** | **0.6000** | **100.0%** of original |"
      ],
      "metadata": {
        "id": "IaVoPbU8V95K"
      }
    },
    {
      "cell_type": "code",
      "source": [],
      "metadata": {
        "id": "ZKD_RR9gWn4U"
      },
      "execution_count": null,
      "outputs": []
    },
    {
      "cell_type": "markdown",
      "source": [
        "### LLaMA-3.2-1B (-2 Layers) Knowledge Recovery\n",
        "\n",
        "| Metric | Teacher (Original) | Student (Pruned) | Student (500 samples) | Final Performance |\n",
        "|:-------|:-------------------|:-----------------|:---------------------|:------------------|\n",
        "| **Parameters** | 1,235,814,400 | 1,117,171,392 | 1,117,171,392 | **Maintained** |\n",
        "| **arc_easy** (acc) | 0.6600 | 0.4800 | **0.5800** | **87.9%** of original |\n",
        "| **winogrande** (acc) | 0.6000 | 0.5400 | 0.5500 | **91.7%** of original |\n",
        "| **boolq** (acc) | 0.6700 | 0.7000 | **0.5400** | **80.6%** of original |\n",
        "| **lambada_openai** (acc) | 0.5700 | 0.1700 | 0.1800 | **31.6%** of original |\n"
      ],
      "metadata": {
        "id": "xPOu-8o5rJN5"
      }
    },
    {
      "cell_type": "code",
      "source": [],
      "metadata": {
        "id": "Lcbt3SFEICMD"
      },
      "execution_count": null,
      "outputs": []
    }
  ]
}