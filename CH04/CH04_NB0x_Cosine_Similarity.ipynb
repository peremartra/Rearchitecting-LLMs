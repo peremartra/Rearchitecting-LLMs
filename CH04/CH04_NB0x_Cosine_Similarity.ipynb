{
  "nbformat": 4,
  "nbformat_minor": 0,
  "metadata": {
    "colab": {
      "provenance": [],
      "gpuType": "T4",
      "authorship_tag": "ABX9TyOETqHxcxhCDiytrzJiZi0P",
      "include_colab_link": true
    },
    "kernelspec": {
      "name": "python3",
      "display_name": "Python 3"
    },
    "language_info": {
      "name": "python"
    },
    "accelerator": "GPU"
  },
  "cells": [
    {
      "cell_type": "markdown",
      "metadata": {
        "id": "view-in-github",
        "colab_type": "text"
      },
      "source": [
        "<a href=\"https://colab.research.google.com/github/peremartra/Rearchitecting-LLMs/blob/main/CH04/CH04_NB0x_Cosine_Similarity.ipynb\" target=\"_parent\"><img src=\"https://colab.research.google.com/assets/colab-badge.svg\" alt=\"Open In Colab\"/></a>"
      ]
    },
    {
      "cell_type": "markdown",
      "source": [
        "#Rearchitecting LLMs\n",
        "## Surgical Optimization for Hyper-Efficient Models\n",
        "\n",
        "\n",
        "### Chapter 4: Depth Pruning: Building Smaller and Faster Models\n",
        "by [Pere Martra](https://github.com/peremartra)\n",
        "\n",
        "[![LinkedIn](https://img.shields.io/badge/LinkedIn-0077B5?style=flat&logo=linkedin&logoColor=white)](https://www.linkedin.com/in/pere-martra/) [![GitHub](https://img.shields.io/badge/GitHub-100000?style=flat&logo=github&logoColor=white)](https://github.com/peremartra) [![X](https://img.shields.io/badge/X-000000?style=flat&logo=x&logoColor=white)](https://x.com/PereMartra) [![Hugging Face](https://img.shields.io/badge/🤗%20Hugging%20Face-blue)](https://huggingface.co/oopere)\n",
        "\n",
        "_____\n",
        "Colab Environment: GPU T4\n",
        "\n",
        "Models:\n",
        "* Qwen3-0.6B\n",
        "_____\n",
        "\n",
        "In this notebook we explore how to evaluate the contribution of different transformer blocks to the LLM’s objective using a dataset.\n",
        "\n",
        "To do this, we use cosine similarity between the input and the output of the transformer block. The lower the similarity, the greater the modification that block has introduced to the data.\n",
        "\n",
        "Blocks with higher similarity between input and output will be the candidates to be removed from the model.\n"
      ],
      "metadata": {
        "id": "vf04d7qXqwUf"
      }
    },
    {
      "cell_type": "markdown",
      "source": [
        "# Setting up notebook"
      ],
      "metadata": {
        "id": "3XUED5yYwoJz"
      }
    },
    {
      "cell_type": "code",
      "source": [
        "!pip install -q \\\n",
        "      \"torch==2.8.0+cu126\" \\\n",
        "      \"transformers==4.55.4\" \\\n",
        "      \"accelerate==1.10.1\" \\\n",
        "      \"lm_eval==0.4.9.1\" \\\n",
        "      \"sentencepiece==0.2.1\" \\\n",
        "      \"sentence-transformers==5.1.0\" \\\n",
        "      \"optipfair==0.1.5\""
      ],
      "metadata": {
        "id": "4AlU0F9Nu6xT",
        "outputId": "589c6d4e-18d2-413a-c881-c78213bcf126",
        "colab": {
          "base_uri": "https://localhost:8080/"
        }
      },
      "execution_count": 1,
      "outputs": [
        {
          "output_type": "stream",
          "name": "stdout",
          "text": [
            "\u001b[2K     \u001b[90m━━━━━━━━━━━━━━━━━━━━━━━━━━━━━━━━━━━━━━━━\u001b[0m \u001b[32m42.0/42.0 kB\u001b[0m \u001b[31m2.3 MB/s\u001b[0m eta \u001b[36m0:00:00\u001b[0m\n",
            "\u001b[2K     \u001b[90m━━━━━━━━━━━━━━━━━━━━━━━━━━━━━━━━━━━━━━━━\u001b[0m \u001b[32m53.6/53.6 kB\u001b[0m \u001b[31m4.9 MB/s\u001b[0m eta \u001b[36m0:00:00\u001b[0m\n",
            "\u001b[?25h  Preparing metadata (setup.py) ... \u001b[?25l\u001b[?25hdone\n",
            "\u001b[2K     \u001b[90m━━━━━━━━━━━━━━━━━━━━━━━━━━━━━━━━━━━━━━━━\u001b[0m \u001b[32m51.8/51.8 kB\u001b[0m \u001b[31m2.2 MB/s\u001b[0m eta \u001b[36m0:00:00\u001b[0m\n",
            "\u001b[?25h  Preparing metadata (setup.py) ... \u001b[?25l\u001b[?25hdone\n",
            "  Preparing metadata (setup.py) ... \u001b[?25l\u001b[?25hdone\n",
            "\u001b[2K   \u001b[90m━━━━━━━━━━━━━━━━━━━━━━━━━━━━━━━━━━━━━━━━\u001b[0m \u001b[32m11.3/11.3 MB\u001b[0m \u001b[31m39.3 MB/s\u001b[0m eta \u001b[36m0:00:00\u001b[0m\n",
            "\u001b[2K   \u001b[90m━━━━━━━━━━━━━━━━━━━━━━━━━━━━━━━━━━━━━━━━\u001b[0m \u001b[32m7.5/7.5 MB\u001b[0m \u001b[31m25.5 MB/s\u001b[0m eta \u001b[36m0:00:00\u001b[0m\n",
            "\u001b[2K   \u001b[90m━━━━━━━━━━━━━━━━━━━━━━━━━━━━━━━━━━━━━━━━\u001b[0m \u001b[32m483.4/483.4 kB\u001b[0m \u001b[31m14.3 MB/s\u001b[0m eta \u001b[36m0:00:00\u001b[0m\n",
            "\u001b[2K   \u001b[90m━━━━━━━━━━━━━━━━━━━━━━━━━━━━━━━━━━━━━━━━\u001b[0m \u001b[32m44.9/44.9 kB\u001b[0m \u001b[31m1.5 MB/s\u001b[0m eta \u001b[36m0:00:00\u001b[0m\n",
            "\u001b[2K   \u001b[90m━━━━━━━━━━━━━━━━━━━━━━━━━━━━━━━━━━━━━━━━\u001b[0m \u001b[32m491.5/491.5 kB\u001b[0m \u001b[31m11.0 MB/s\u001b[0m eta \u001b[36m0:00:00\u001b[0m\n",
            "\u001b[2K   \u001b[90m━━━━━━━━━━━━━━━━━━━━━━━━━━━━━━━━━━━━━━━━\u001b[0m \u001b[32m84.1/84.1 kB\u001b[0m \u001b[31m3.1 MB/s\u001b[0m eta \u001b[36m0:00:00\u001b[0m\n",
            "\u001b[2K   \u001b[90m━━━━━━━━━━━━━━━━━━━━━━━━━━━━━━━━━━━━━━━━\u001b[0m \u001b[32m293.6/293.6 kB\u001b[0m \u001b[31m8.8 MB/s\u001b[0m eta \u001b[36m0:00:00\u001b[0m\n",
            "\u001b[2K   \u001b[90m━━━━━━━━━━━━━━━━━━━━━━━━━━━━━━━━━━━━━━━━\u001b[0m \u001b[32m104.1/104.1 kB\u001b[0m \u001b[31m3.9 MB/s\u001b[0m eta \u001b[36m0:00:00\u001b[0m\n",
            "\u001b[2K   \u001b[90m━━━━━━━━━━━━━━━━━━━━━━━━━━━━━━━━━━━━━━━━\u001b[0m \u001b[32m3.1/3.1 MB\u001b[0m \u001b[31m51.0 MB/s\u001b[0m eta \u001b[36m0:00:00\u001b[0m\n",
            "\u001b[2K   \u001b[90m━━━━━━━━━━━━━━━━━━━━━━━━━━━━━━━━━━━━━━━━\u001b[0m \u001b[32m91.1/91.1 kB\u001b[0m \u001b[31m8.4 MB/s\u001b[0m eta \u001b[36m0:00:00\u001b[0m\n",
            "\u001b[?25h  Building wheel for rouge-score (setup.py) ... \u001b[?25l\u001b[?25hdone\n",
            "  Building wheel for sqlitedict (setup.py) ... \u001b[?25l\u001b[?25hdone\n",
            "  Building wheel for word2number (setup.py) ... \u001b[?25l\u001b[?25hdone\n"
          ]
        }
      ]
    },
    {
      "cell_type": "code",
      "source": [
        "import torch\n",
        "import torch.nn.functional as F\n",
        "from transformers import AutoModelForCausalLM, AutoTokenizer\n",
        "from datasets import load_dataset\n",
        "from torch.utils.data import DataLoader\n",
        "from tqdm import tqdm\n",
        "import numpy as np"
      ],
      "metadata": {
        "id": "CCBC8p1FvBsV"
      },
      "execution_count": 2,
      "outputs": []
    },
    {
      "cell_type": "code",
      "execution_count": 3,
      "metadata": {
        "colab": {
          "base_uri": "https://localhost:8080/"
        },
        "id": "R5xvVourquO6",
        "outputId": "fb7eabf5-704d-4f68-957c-06fdd9ebe5d7"
      },
      "outputs": [
        {
          "output_type": "stream",
          "name": "stdout",
          "text": [
            "Using device: cuda\n",
            "GPU: Tesla T4\n"
          ]
        }
      ],
      "source": [
        "# Check device\n",
        "device = torch.device('cuda' if torch.cuda.is_available() else 'cpu')\n",
        "print(f\"Using device: {device}\")\n",
        "if torch.cuda.is_available():\n",
        "    print(f\"GPU: {torch.cuda.get_device_name(0)}\")"
      ]
    },
    {
      "cell_type": "markdown",
      "source": [
        "## Load Model"
      ],
      "metadata": {
        "id": "ghFZPniOw0fp"
      }
    },
    {
      "cell_type": "code",
      "source": [
        "MODEL_NAME = 'Qwen/Qwen3-0.6B'\n",
        "tokenizer = AutoTokenizer.from_pretrained(MODEL_NAME)\n",
        "if tokenizer.pad_token is None:\n",
        "    tokenizer.pad_token = tokenizer.eos_token\n",
        "\n",
        "model = AutoModelForCausalLM.from_pretrained(\n",
        "    MODEL_NAME,\n",
        "    torch_dtype=torch.float16,\n",
        "    device_map=\"auto\"\n",
        ")\n",
        "model.eval()"
      ],
      "metadata": {
        "id": "MpLvzaifv_B6"
      },
      "execution_count": null,
      "outputs": []
    },
    {
      "cell_type": "markdown",
      "source": [
        "## Load Datasets"
      ],
      "metadata": {
        "id": "gP2pYvmfw3hV"
      }
    },
    {
      "cell_type": "code",
      "source": [
        "RECOVERY_SAMPLES = 100\n",
        "BATCH_SIZE = 8\n",
        "MAX_LENGTH = 512"
      ],
      "metadata": {
        "id": "B0INZII5BIMM"
      },
      "execution_count": 5,
      "outputs": []
    },
    {
      "cell_type": "markdown",
      "source": [
        "We’re going to use two different datasets to visualize how some layers are more important than others depending on the data being used.\n",
        "\n",
        "* **Wikitext**: Contains highly complex text. To process this kind of text, the model needs to rely on its deeper layers to understand context, semantic relations, and complex grammatical structures.\n",
        "* **SMS Spam**: A completely different dataset, made up of short sentences with simple and direct language. It doesn’t require deep semantic understanding.\n"
      ],
      "metadata": {
        "id": "2epEOHrEbT36"
      }
    },
    {
      "cell_type": "code",
      "source": [
        "datawiki = load_dataset('wikitext', 'wikitext-2-raw-v1', split=f'train[:100]')\n",
        "\n",
        "datasms = load_dataset('sms_spam', split=f'train[:100]')"
      ],
      "metadata": {
        "id": "0AxpLIebQoJe"
      },
      "execution_count": null,
      "outputs": []
    },
    {
      "cell_type": "code",
      "source": [
        "def prepare_dataset(dataset, text_field='text'):\n",
        "  def tokenize_function(examples):\n",
        "      if text_field in examples:\n",
        "          texts = examples[text_field]\n",
        "      elif 'sms' in examples:  # SMS dataset\n",
        "          texts = examples['sms']\n",
        "      elif 'text' in examples:\n",
        "          texts = examples['text']\n",
        "      else:\n",
        "          texts = examples[list(examples.keys())[0]]  # First available field\n",
        "\n",
        "      return tokenizer(\n",
        "          texts,\n",
        "          truncation=True,\n",
        "          padding='max_length',\n",
        "          max_length=MAX_LENGTH,\n",
        "          return_tensors='pt'\n",
        "      )\n",
        "\n",
        "  tokenized = dataset.map(tokenize_function, batched=True, remove_columns=dataset.column_names)\n",
        "  tokenized.set_format(type='torch', columns=['input_ids', 'attention_mask'])\n",
        "  return DataLoader(tokenized, batch_size=BATCH_SIZE, shuffle=False)\n"
      ],
      "metadata": {
        "id": "8YAKyNaL6bqr"
      },
      "execution_count": 7,
      "outputs": []
    },
    {
      "cell_type": "code",
      "source": [
        "# Crear dataloaders\n",
        "dataloaderwiki = prepare_dataset(datawiki)  # WikiText (largo)\n",
        "dataloadersms = prepare_dataset(datasms)  # SMS (corto)"
      ],
      "metadata": {
        "id": "VDYfIVBFXj_9"
      },
      "execution_count": null,
      "outputs": []
    },
    {
      "cell_type": "markdown",
      "source": [
        "# 4.2 Block Selection Strategies\n",
        "In this section, we're going to explore different strategies to make this decision. We'll start with the most direct and simple approaches, known as static or \"data-free\"\n",
        "# 4.2.1 Static Approaches (Data-Free)\n",
        "Static approaches are those based on analyzing the structure and initial weights of the model.\n"
      ],
      "metadata": {
        "id": "KCOV99WOlZoL"
      }
    },
    {
      "cell_type": "code",
      "source": [
        "# Based in position.\n",
        "from copy import deepcopy\n",
        "\n",
        "num_layers = len(model.model.layers)  # 32\n",
        "layers_to_keep = num_layers - 4\n",
        "print(f\"Number of layers: {num_layers}\")\n",
        "print(f\"Layers to keep: {layers_to_keep}\")\n",
        "\n",
        "pruned_model = deepcopy(model)\n",
        "pruned_model.model.layers = pruned_model.model.layers[:layers_to_keep]\n",
        "print(f\"Number of layers in pruned model: {len(pruned_model.model.layers)}\")"
      ],
      "metadata": {
        "colab": {
          "base_uri": "https://localhost:8080/"
        },
        "id": "7s61iZHnU0Yd",
        "outputId": "7408b5c4-3691-4a5a-81e9-4dc84bfa1b4c"
      },
      "execution_count": 9,
      "outputs": [
        {
          "output_type": "stream",
          "name": "stdout",
          "text": [
            "Number of layers: 28\n",
            "Layers to keep: 24\n",
            "Number of layers in pruned model: 24\n"
          ]
        }
      ]
    },
    {
      "cell_type": "code",
      "source": [
        "# Based in weigths\n",
        "def calculate_layer_magnitude(layer):\n",
        "    total_magnitude = 0\n",
        "    for param in layer.parameters():\n",
        "        total_magnitude += torch.norm(param).item()\n",
        "    return total_magnitude\n",
        "\n",
        "# Calculate magnitude for each layer\n",
        "layer_magnitudes = []\n",
        "for i, layer in enumerate(model.model.layers):\n",
        "    magnitude = calculate_layer_magnitude(layer)\n",
        "    layer_magnitudes.append((i, magnitude))\n",
        "\n",
        "# Remove layers with lower magnitude\n",
        "layer_magnitudes.sort(key=lambda x: x[1])  # Sort by magnitude\n",
        "layers_to_remove = [idx for idx, _ in layer_magnitudes[:4]]  # Remove layers with lower\n",
        "\n",
        "print(layers_to_remove)"
      ],
      "metadata": {
        "colab": {
          "base_uri": "https://localhost:8080/"
        },
        "id": "TjmyRAOWl4ku",
        "outputId": "0a413c19-66fa-4934-d287-bef628fa1773"
      },
      "execution_count": 10,
      "outputs": [
        {
          "output_type": "stream",
          "name": "stdout",
          "text": [
            "[8, 2, 7, 6]\n"
          ]
        }
      ]
    },
    {
      "cell_type": "markdown",
      "source": [
        "# 4.3 Data-driven analysis and pruning"
      ],
      "metadata": {
        "id": "58jFH4STU0_D"
      }
    },
    {
      "cell_type": "markdown",
      "source": [
        "To decide which layers to remove, we measure their contribution using cosine similarity. We chose this metric because it’s perfect for this task: it measures the change in semantic direction between the input and output vectors of a layer, ignoring their magnitude.\n",
        "\n",
        "This gives us a normalized score that we convert into an importance score (1 - similarity).\n",
        "\n",
        "A score close to zero identifies a “passive” layer that barely alters the information, making it an ideal candidate for removal.\n"
      ],
      "metadata": {
        "id": "nGHINZat6ldT"
      }
    },
    {
      "cell_type": "markdown",
      "source": [
        "## 4.3.1 Using PyTorch hooks\n",
        "\n",
        "\n",
        "\n",
        "\n",
        "\n"
      ],
      "metadata": {
        "id": "ECZxEn7TzICK"
      }
    },
    {
      "cell_type": "markdown",
      "source": [
        "We define a simple function to use as a hook that shows the shape of the input tensor and the output tensor."
      ],
      "metadata": {
        "id": "7JckMkQF8B3L"
      }
    },
    {
      "cell_type": "code",
      "source": [
        "def print_shape_hook(module, input, output):\n",
        "    \"\"\"\n",
        "    Hook function that prints tensor shapes\n",
        "    module: the layer where the hook is attached\n",
        "    input: tuple of input tensors to the layer\n",
        "    output: the output tensor from the layer\n",
        "    \"\"\"\n",
        "    # Input is a tuple, we take the first element (the hidden states)\n",
        "    print(f\"Module class: {module.__class__.__name__}\")\n",
        "    print(f\"Module id: {id(module)}\")\n",
        "    input_tensor = input[0]\n",
        "    print(f\"Input shape:  {input_tensor.shape}\")\n",
        "    print(f\"Output shape: {output.shape}\")"
      ],
      "metadata": {
        "id": "opHXnaK74FKk"
      },
      "execution_count": 11,
      "outputs": []
    },
    {
      "cell_type": "markdown",
      "source": [
        "We register the hook in the first transformer block.Retry"
      ],
      "metadata": {
        "id": "p0uuj7VN8IiO"
      }
    },
    {
      "cell_type": "code",
      "source": [
        "# Register the hook on the first transformer block\n",
        "first_layer = model.model.layers[0]\n",
        "hook_handle = first_layer.register_forward_hook(print_shape_hook)"
      ],
      "metadata": {
        "id": "2F2sONdy4_-t"
      },
      "execution_count": 12,
      "outputs": []
    },
    {
      "cell_type": "markdown",
      "source": [
        "We run a forward with the model and get the hook result that Pytorch executes automatically."
      ],
      "metadata": {
        "id": "N6XEfZCm-bHU"
      }
    },
    {
      "cell_type": "code",
      "source": [
        "# Test with a simple input\n",
        "test_text = \"He sat on the river bank to fish\"\n",
        "inputs = tokenizer(test_text, return_tensors=\"pt\").to(device)\n",
        "with torch.no_grad():\n",
        "    outputs = model(**inputs)"
      ],
      "metadata": {
        "colab": {
          "base_uri": "https://localhost:8080/"
        },
        "id": "A3jfBz7N5elD",
        "outputId": "324cc795-dcad-42a5-d25a-6ac965125fd4"
      },
      "execution_count": 13,
      "outputs": [
        {
          "output_type": "stream",
          "name": "stdout",
          "text": [
            "Module class: Qwen3DecoderLayer\n",
            "Module id: 139373042887584\n",
            "Input shape:  torch.Size([1, 8, 1024])\n",
            "Output shape: torch.Size([1, 8, 1024])\n"
          ]
        }
      ]
    },
    {
      "cell_type": "markdown",
      "source": [
        "We remove the hooks."
      ],
      "metadata": {
        "id": "_p7LALtN_BVn"
      }
    },
    {
      "cell_type": "code",
      "source": [
        "# Remove the hook when done\n",
        "hook_handle.remove()"
      ],
      "metadata": {
        "id": "J-aitGMa5vOp"
      },
      "execution_count": 14,
      "outputs": []
    },
    {
      "cell_type": "markdown",
      "source": [
        "If we run the forward again, the hook no longer executesRetry"
      ],
      "metadata": {
        "id": "MLJnxUbY_B_T"
      }
    },
    {
      "cell_type": "code",
      "source": [
        "with torch.no_grad():\n",
        "    outputs = model(**inputs)"
      ],
      "metadata": {
        "id": "IL4rZJJy5slH"
      },
      "execution_count": 15,
      "outputs": []
    },
    {
      "cell_type": "markdown",
      "source": [
        "## 4.3.2 Understanding cosine similarity."
      ],
      "metadata": {
        "id": "sehVQjflwkOS"
      }
    },
    {
      "cell_type": "code",
      "source": [
        "from sentence_transformers import SentenceTransformer\n",
        "import torch\n",
        "import torch.nn.functional as F\n",
        "\n",
        "# Load standard sentence embedding model\n",
        "modelst = SentenceTransformer('all-MiniLM-L6-v2')\n",
        "\n",
        "# Three example sentences: two semantically similar, one different\n",
        "sentences = [\n",
        "    \"The cat naps on the sofa.\",\n",
        "    \"The feline is peacefully slumbering on the couch.\",\n",
        "    \"The bus stops at the corner.\"\n",
        "]\n",
        "\n",
        "embeddings = modelst.encode(sentences, convert_to_tensor=True)\n",
        "\n",
        "print(f\"Embedding shape: {embeddings.shape}\")\n",
        "print(f\"Each sentence is represented by {embeddings.shape[1]} dimensions\\n\")\n",
        "\n",
        "# Calculate cosine similarity matrix using PyTorch\n",
        "# We need to compute all pairs, so we use matrix multiplication\n",
        "# First normalize embeddings\n",
        "embeddings_normalized = F.normalize(embeddings, p=2, dim=1)\n",
        "\n",
        "# Compute similarity matrix (cosine = dot product of normalized vectors)\n",
        "similarity_matrix = torch.mm(embeddings_normalized, embeddings_normalized.T)\n",
        "\n",
        "print(\"Cosine Similarity Matrix:\")\n",
        "print(similarity_matrix)\n",
        "print(\"\\nInterpretation:\")\n",
        "print(f\"Sentence 1 vs Sentence 2: {similarity_matrix[0][1]:.4f} (semantically similar)\")\n",
        "print(f\"Sentence 1 vs Sentence 3: {similarity_matrix[0][2]:.4f} (different topics)\")\n",
        "print(\"\\nNote: Values close to 1.0 indicate high similarity\")\n"
      ],
      "metadata": {
        "id": "Wvq73_GVwnRh"
      },
      "execution_count": null,
      "outputs": []
    },
    {
      "cell_type": "markdown",
      "source": [
        "## 4.3.3 Measuring Block Importance\n"
      ],
      "metadata": {
        "id": "Af4D7jK87Kud"
      }
    },
    {
      "cell_type": "markdown",
      "source": [
        "To capture the input and output of the layers we use PyTorch hooks, which let us study/spy on the model’s behavior.\n"
      ],
      "metadata": {
        "id": "IC3EkRvAeZWH"
      }
    },
    {
      "cell_type": "code",
      "source": [
        "def setup_layer_hooks(model):\n",
        "    \"\"\"\n",
        "    Register hooks to capture input/output of each transformer layer\n",
        "    Returns: hooks list and storage dictionaries\n",
        "    \"\"\"\n",
        "    num_layers = len(model.model.layers)\n",
        "    layer_inputs = {}\n",
        "    layer_outputs = {}\n",
        "    hooks = []\n",
        "\n",
        "    def create_hook(layer_idx): #B\n",
        "        def hook(module, input, output): #C\n",
        "            # Captura la entrada del bloque\n",
        "            input_tensor = input[0] if isinstance(input, tuple) else input\n",
        "            layer_inputs[layer_idx] = input_tensor.detach().cpu() #D\n",
        "\n",
        "            # Captura la salida del bloque\n",
        "            output_tensor = output[0] if isinstance(output, tuple) else output\n",
        "            layer_outputs[layer_idx] = output_tensor.detach().cpu() #D\n",
        "        return hook\n",
        "\n",
        "    # Register hooks for each layer\n",
        "    for i, layer in enumerate(model.model.layers):\n",
        "        hooks.append(\n",
        "            layer.register_forward_hook(create_hook(i))\n",
        "            )\n",
        "\n",
        "    return hooks, layer_inputs, layer_outputs, num_layers"
      ],
      "metadata": {
        "id": "vT40G6hq6itp"
      },
      "execution_count": 17,
      "outputs": []
    },
    {
      "cell_type": "markdown",
      "source": [
        "### Calculate Cosine Similarity"
      ],
      "metadata": {
        "id": "qBTC2Dh97jx4"
      }
    },
    {
      "cell_type": "code",
      "source": [
        "def calculate_cosine_importance(input_tensor, output_tensor, layer_idx, is_first_batch=False):\n",
        "    \"\"\"\n",
        "    Calculate importance score using cosine similarity between input and output tensors.\n",
        "    Optimized for GPU by computing similarity on full batch before filtering.\n",
        "\n",
        "    Args:\n",
        "        input_tensor: Input hidden states to the layer\n",
        "        output_tensor: Output hidden states from the layer\n",
        "        layer_idx: Layer index for debugging\n",
        "        is_first_batch: Whether to print debug warnings\n",
        "\n",
        "    Returns:\n",
        "        importance: Score from 0.0 to 1.0 (higher = more important)\n",
        "    \"\"\"\n",
        "    # Validate tensor dimensions\n",
        "    if input_tensor.numel() == 0 or output_tensor.numel() == 0:\n",
        "        return 0.0\n",
        "\n",
        "    # Flatten tensors to [batch_size, features]\n",
        "    input_flat = input_tensor.view(input_tensor.size(0), -1)\n",
        "    output_flat = output_tensor.view(output_tensor.size(0), -1)\n",
        "\n",
        "    # Compute cosine similarity for entire batch (GPU-optimized)\n",
        "    similarities = F.cosine_similarity(input_flat, output_flat, dim=1)\n",
        "\n",
        "    # Filter non-finite values after computation\n",
        "    finite_similarities = similarities[torch.isfinite(similarities)]\n",
        "\n",
        "    # Handle case with no valid samples\n",
        "    if finite_similarities.numel() == 0:\n",
        "        if is_first_batch:\n",
        "            print(f\"Warning: Layer {layer_idx} produced all inf/nan similarities\")\n",
        "        return 0.0\n",
        "\n",
        "    # Importance = 1 - average similarity\n",
        "    # (low similarity = high change = high importance)\n",
        "    importance = 1.0 - finite_similarities.mean().item()\n",
        "\n",
        "    return importance"
      ],
      "metadata": {
        "id": "VYCdoz0ekTHS"
      },
      "execution_count": 19,
      "outputs": []
    },
    {
      "cell_type": "markdown",
      "source": [
        "We aggregate the results"
      ],
      "metadata": {
        "id": "VkbDmAVNewak"
      }
    },
    {
      "cell_type": "code",
      "source": [
        "def aggregate_importance_scores(layer_scores):\n",
        "    \"\"\"\n",
        "    Aggregate importance scores across all batches\n",
        "    Returns: dictionary with final averaged scores per layer\n",
        "    \"\"\"\n",
        "    final_scores = {}\n",
        "    for layer_idx, scores in layer_scores.items():\n",
        "        if scores:\n",
        "            # Filter out invalid scores\n",
        "            valid_scores = [s for s in scores if not (np.isnan(s) or np.isinf(s))]\n",
        "            final_scores[layer_idx] = np.mean(valid_scores) if valid_scores else 0.0\n",
        "        else:\n",
        "            final_scores[layer_idx] = 0.0\n",
        "\n",
        "    return final_scores\n"
      ],
      "metadata": {
        "id": "dI5dJlfK7qMa"
      },
      "execution_count": 20,
      "outputs": []
    },
    {
      "cell_type": "markdown",
      "source": [
        "This function takes the importance scores collected from all data batches for each layer. Then, it computes the average of these scores to get a single final consolidated importance score for each layer of the model."
      ],
      "metadata": {
        "id": "AL33kTqtfbz_"
      }
    },
    {
      "cell_type": "code",
      "source": [
        "def calculate_layer_importance_cosine(model, dataloader, device):\n",
        "    \"\"\"\n",
        "    Calculate layer importance using cosine similarity between input/output representations\n",
        "\n",
        "    Args:\n",
        "        model: Transformer model\n",
        "        dataloader: DataLoader with tokenized text data\n",
        "        device: torch device (cuda/cpu)\n",
        "\n",
        "    Returns:\n",
        "        dict: Layer importance scores {layer_idx: importance_score}\n",
        "    \"\"\"\n",
        "    # Setup hooks and storage\n",
        "    hooks, layer_inputs, layer_outputs, num_layers = setup_layer_hooks(model)\n",
        "    layer_importance_scores = {i: [] for i in range(num_layers)}\n",
        "\n",
        "    with torch.no_grad():\n",
        "        for batch_idx, batch in enumerate(tqdm(dataloader, desc=\"Processing batches\")):\n",
        "            inputs = {k: v.to(device) for k, v in batch.items()}\n",
        "\n",
        "            # Forward pass to trigger hooks\n",
        "            model(**inputs)\n",
        "\n",
        "            # Calculate importance for each layer\n",
        "            for layer_idx in range(num_layers):\n",
        "                if layer_idx not in layer_inputs or layer_idx not in layer_outputs:\n",
        "                    layer_importance_scores[layer_idx].append(0.0)\n",
        "                    continue\n",
        "\n",
        "                input_tensor = layer_inputs[layer_idx]\n",
        "                output_tensor = layer_outputs[layer_idx]\n",
        "\n",
        "                importance = calculate_cosine_importance(\n",
        "                    input_tensor, output_tensor, layer_idx,\n",
        "                    is_first_batch=(batch_idx == 0)\n",
        "                )\n",
        "                layer_importance_scores[layer_idx].append(importance)\n",
        "\n",
        "            # Clear storage for next batch\n",
        "            layer_inputs.clear()\n",
        "            layer_outputs.clear()\n",
        "\n",
        "    # Cleanup hooks\n",
        "    for hook in hooks:\n",
        "        hook.remove()\n",
        "\n",
        "    # Aggregate final scores\n",
        "    final_scores = aggregate_importance_scores(layer_importance_scores)\n",
        "\n",
        "    return final_scores"
      ],
      "metadata": {
        "id": "iRjXO8fd7uWz"
      },
      "execution_count": 21,
      "outputs": []
    },
    {
      "cell_type": "markdown",
      "source": [
        "### Obtaining & Studying results"
      ],
      "metadata": {
        "id": "LXZvQP6Ufge-"
      }
    },
    {
      "cell_type": "code",
      "source": [
        "def print_sorted_importance(scores):\n",
        "    for i, (layer, score) in enumerate(sorted(scores.items(), key=lambda x: float(x[1]), reverse=True), 1):\n",
        "        print(f\"Layer {layer:2d}: {float(score):.6f}\")"
      ],
      "metadata": {
        "id": "KxECy2RMVKaN"
      },
      "execution_count": 22,
      "outputs": []
    },
    {
      "cell_type": "code",
      "source": [
        "wiki_importance= calculate_layer_importance_cosine(model, dataloaderwiki, device)"
      ],
      "metadata": {
        "colab": {
          "base_uri": "https://localhost:8080/"
        },
        "id": "iw68nEqr76P-",
        "outputId": "afd6e699-8025-4b06-d171-0289a8dbbd0a"
      },
      "execution_count": 23,
      "outputs": [
        {
          "output_type": "stream",
          "name": "stderr",
          "text": [
            "Processing batches: 100%|██████████| 13/13 [00:18<00:00,  1.41s/it]\n"
          ]
        }
      ]
    },
    {
      "cell_type": "code",
      "source": [
        "print_sorted_importance(wiki_importance)"
      ],
      "metadata": {
        "colab": {
          "base_uri": "https://localhost:8080/"
        },
        "id": "uebaKFEe8GpS",
        "outputId": "3dfc4a75-1d70-4f9a-eed6-705c858300ef"
      },
      "execution_count": 24,
      "outputs": [
        {
          "output_type": "stream",
          "name": "stdout",
          "text": [
            "Layer  0: 0.890400\n",
            "Layer  2: 0.771517\n",
            "Layer  1: 0.307429\n",
            "Layer 27: 0.172739\n",
            "Layer 23: 0.082144\n",
            "Layer 25: 0.074031\n",
            "Layer 24: 0.071702\n",
            "Layer 22: 0.068585\n",
            "Layer 26: 0.062951\n",
            "Layer 21: 0.061974\n",
            "Layer 17: 0.059157\n",
            "Layer 19: 0.053673\n",
            "Layer  4: 0.050105\n",
            "Layer 16: 0.049730\n",
            "Layer 11: 0.048640\n",
            "Layer  9: 0.047213\n",
            "Layer 13: 0.046387\n",
            "Layer  5: 0.046011\n",
            "Layer  6: 0.045147\n",
            "Layer  3: 0.043532\n",
            "Layer 15: 0.043307\n",
            "Layer 14: 0.043232\n",
            "Layer 12: 0.042030\n",
            "Layer 10: 0.041466\n",
            "Layer 20: 0.041466\n",
            "Layer  8: 0.037861\n",
            "Layer 18: 0.036358\n",
            "Layer  7: 0.031100\n"
          ]
        }
      ]
    },
    {
      "cell_type": "code",
      "source": [
        "sms_importance = calculate_layer_importance_cosine(model, dataloadersms, device)"
      ],
      "metadata": {
        "colab": {
          "base_uri": "https://localhost:8080/",
          "height": 0
        },
        "id": "QTywurOkR7Cm",
        "outputId": "c046b9a3-f9e3-4bb8-a3d2-555f420036c5"
      },
      "execution_count": 24,
      "outputs": [
        {
          "output_type": "stream",
          "name": "stderr",
          "text": [
            "Processing batches: 100%|██████████| 13/13 [00:33<00:00,  2.60s/it]\n"
          ]
        }
      ]
    },
    {
      "cell_type": "code",
      "source": [
        "print_sorted_importance(sms_importance)"
      ],
      "metadata": {
        "colab": {
          "base_uri": "https://localhost:8080/",
          "height": 0
        },
        "id": "rPKWuhurSUpe",
        "outputId": "6973a434-dfa8-4efc-e790-1d3b1384e363"
      },
      "execution_count": 25,
      "outputs": [
        {
          "output_type": "stream",
          "name": "stdout",
          "text": [
            "Layer  2: 0.948613\n",
            "Layer  0: 0.896977\n",
            "Layer  1: 0.276968\n",
            "Layer 27: 0.146635\n",
            "Layer 21: 0.024264\n",
            "Layer 24: 0.022461\n",
            "Layer 25: 0.020207\n",
            "Layer 26: 0.016677\n",
            "Layer 22: 0.016564\n",
            "Layer 20: 0.015512\n",
            "Layer 19: 0.014273\n",
            "Layer 23: 0.013897\n",
            "Layer 18: 0.007061\n",
            "Layer 17: 0.004432\n",
            "Layer 16: 0.003869\n",
            "Layer 15: 0.002779\n",
            "Layer 14: 0.002441\n",
            "Layer 11: 0.001878\n",
            "Layer 10: 0.001427\n",
            "Layer 12: 0.001127\n",
            "Layer 13: 0.001052\n",
            "Layer  9: 0.000338\n",
            "Layer  3: 0.000113\n",
            "Layer  5: 0.000038\n",
            "Layer  4: 0.000000\n",
            "Layer  6: 0.000000\n",
            "Layer  7: 0.000000\n",
            "Layer  8: 0.000000\n"
          ]
        }
      ]
    },
    {
      "cell_type": "code",
      "source": [
        "def compare_importance(scores1, scores2, name1=\"Dataset1\", name2=\"Dataset2\"):\n",
        "    print(f\"{'Layer':<5} {name1:<10} {name2:<10} {'Diff':<8}\")\n",
        "    print(\"-\" * 35)\n",
        "    for layer in sorted(scores1.keys()):\n",
        "        s1, s2 = float(scores1[layer]), float(scores2[layer])\n",
        "        diff = abs(s1 - s2)\n",
        "        print(f\"{layer:<5} {s1:<10.4f} {s2:<10.4f} {diff:<8.4f}\")"
      ],
      "metadata": {
        "id": "7a63I8HvUnIm"
      },
      "execution_count": 26,
      "outputs": []
    },
    {
      "cell_type": "code",
      "source": [
        "compare_importance(wiki_importance, sms_importance, \"wiki\", \"SMS\")"
      ],
      "metadata": {
        "colab": {
          "base_uri": "https://localhost:8080/",
          "height": 0
        },
        "id": "_IBQcFl8gyI_",
        "outputId": "7e7c4621-7d20-411f-d2e3-5a64a5086e2c"
      },
      "execution_count": 27,
      "outputs": [
        {
          "output_type": "stream",
          "name": "stdout",
          "text": [
            "Layer wiki       SMS        Diff    \n",
            "-----------------------------------\n",
            "0     0.8904     0.8970     0.0066  \n",
            "1     0.3074     0.2770     0.0305  \n",
            "2     0.7715     0.9486     0.1771  \n",
            "3     0.0435     0.0001     0.0434  \n",
            "4     0.0501     0.0000     0.0501  \n",
            "5     0.0460     0.0000     0.0460  \n",
            "6     0.0451     0.0000     0.0451  \n",
            "7     0.0311     0.0000     0.0311  \n",
            "8     0.0379     0.0000     0.0379  \n",
            "9     0.0472     0.0003     0.0469  \n",
            "10    0.0415     0.0014     0.0400  \n",
            "11    0.0486     0.0019     0.0468  \n",
            "12    0.0420     0.0011     0.0409  \n",
            "13    0.0464     0.0011     0.0453  \n",
            "14    0.0432     0.0024     0.0408  \n",
            "15    0.0433     0.0028     0.0405  \n",
            "16    0.0497     0.0039     0.0459  \n",
            "17    0.0592     0.0044     0.0547  \n",
            "18    0.0364     0.0071     0.0293  \n",
            "19    0.0537     0.0143     0.0394  \n",
            "20    0.0415     0.0155     0.0260  \n",
            "21    0.0620     0.0243     0.0377  \n",
            "22    0.0686     0.0166     0.0520  \n",
            "23    0.0821     0.0139     0.0682  \n",
            "24    0.0717     0.0225     0.0492  \n",
            "25    0.0740     0.0202     0.0538  \n",
            "26    0.0630     0.0167     0.0463  \n",
            "27    0.1727     0.1466     0.0261  \n"
          ]
        }
      ]
    },
    {
      "cell_type": "code",
      "source": [
        "import matplotlib.pyplot as plt\n",
        "\n",
        "def compare_importance(scores1, scores2, name1=\"Dataset1\", name2=\"Dataset2\",\n",
        "                      start=None, end=None, model=\"Qwen3-0.6B\"):\n",
        "    layers = sorted(scores1.keys())\n",
        "    if start is not None or end is not None:\n",
        "        layers = [l for l in layers if (start is None or l >= start) and\n",
        "                 (end is None or l <= end)]\n",
        "\n",
        "    vals1 = [float(scores1[l]) for l in layers]\n",
        "    vals2 = [float(scores2[l]) for l in layers]\n",
        "\n",
        "    x = np.arange(len(layers))\n",
        "    width = 0.35\n",
        "\n",
        "    plt.figure(figsize=(10, 4))\n",
        "    plt.bar(x - width/2, vals1, width, label=name1, alpha=0.7)\n",
        "    plt.bar(x + width/2, vals2, width, label=name2, alpha=0.7)\n",
        "\n",
        "    plt.xlabel('Transformer Block')\n",
        "    plt.ylabel('Cosine Distance')\n",
        "    plt.xticks(x, layers)\n",
        "    plt.legend()\n",
        "    plt.title(f\"Transformer Block Importance on {model}: SMS vs. WikiText\")\n",
        "    plt.grid(True, alpha=0.3)\n",
        "    plt.tight_layout()\n",
        "    plt.show()"
      ],
      "metadata": {
        "id": "BVLe5ePEzH26"
      },
      "execution_count": 28,
      "outputs": []
    },
    {
      "cell_type": "code",
      "source": [
        "compare_importance(wiki_importance, sms_importance, name1=\"wikitext\", name2=\"SMS_spam\", start=3, end=20)"
      ],
      "metadata": {
        "id": "ZYEu7GhWzUjB",
        "outputId": "2889445f-ddc4-4401-e615-a7b48bc142e7",
        "colab": {
          "base_uri": "https://localhost:8080/",
          "height": 400
        }
      },
      "execution_count": 29,
      "outputs": [
        {
          "output_type": "display_data",
          "data": {
            "text/plain": [
              "<Figure size 1000x400 with 1 Axes>"
            ],
            "image/png": "[encoded data removed]"
          },
          "metadata": {}
        }
      ]
    },
    {
      "cell_type": "markdown",
      "source": [
        "The results of our comparison reveal a clear pattern. The first layers (0–2) and the last one (27) prove to be important in both datasets, suggesting that they perform fundamental functions, such as the initial processing of the input and the consolidation of the output.\n",
        "\n",
        "The key difference lies in the behavior of the intermediate layers (roughly 3–26). While in the complex text of Wikitext these layers carry out a measurable job of semantic refinement, in the simple SMS text their contribution is practically null, becoming “passive.” This shows that the importance of a layer varies depending on the complexity of the task, thus validating “depth pruning” as an effective strategy to create more efficient models for specialized tasks.\n"
      ],
      "metadata": {
        "id": "yw3B3bVZia7W"
      }
    },
    {
      "cell_type": "markdown",
      "source": [
        "### Create the pruned model for the SMS dataset by removing the 4 least relevant layers."
      ],
      "metadata": {
        "id": "9LN1lqRsnh9y"
      }
    },
    {
      "cell_type": "markdown",
      "source": [
        "We can use the information obtained to remove the less important Transfomer blocks from the model to be used with the SMS Dataset."
      ],
      "metadata": {
        "id": "gGA5DjnSocOW"
      }
    },
    {
      "cell_type": "code",
      "source": [
        "from optipfair import prune_model\n",
        "\n",
        "sms_model, stats = prune_model(\n",
        "    model=deepcopy(model),\n",
        "    pruning_type=\"DEPTH\",\n",
        "    layer_indices=[3, 4, 5, 6],\n",
        "    show_progress=True,\n",
        "    return_stats=True\n",
        ")"
      ],
      "metadata": {
        "colab": {
          "base_uri": "https://localhost:8080/",
          "height": 0
        },
        "id": "DE0DLlJong2Z",
        "outputId": "49900b06-267b-4570-f628-8f072ad810a8"
      },
      "execution_count": 30,
      "outputs": [
        {
          "output_type": "stream",
          "name": "stderr",
          "text": [
            "Removing layers: 100%|██████████| 28/28 [00:00<00:00, 326223.64it/s]\n"
          ]
        }
      ]
    },
    {
      "cell_type": "markdown",
      "source": [
        "The new model has only 24 transformer blocks."
      ],
      "metadata": {
        "id": "TQkngm7uoWbH"
      }
    },
    {
      "cell_type": "code",
      "source": [
        "print (stats['percentage_reduction'])"
      ],
      "metadata": {
        "colab": {
          "base_uri": "https://localhost:8080/",
          "height": 0
        },
        "id": "GoiVSUm8o5XU",
        "outputId": "18374cf4-174a-45db-ef02-9de62e2daa43"
      },
      "execution_count": 31,
      "outputs": [
        {
          "output_type": "stream",
          "name": "stdout",
          "text": [
            "10.556796316657504\n"
          ]
        }
      ]
    },
    {
      "cell_type": "code",
      "source": [
        "print(sms_model)"
      ],
      "metadata": {
        "colab": {
          "base_uri": "https://localhost:8080/",
          "height": 0
        },
        "id": "vvHU8hC3hSzm",
        "outputId": "f4970949-dd18-4117-f079-b80d2b821b8d"
      },
      "execution_count": 32,
      "outputs": [
        {
          "output_type": "stream",
          "name": "stdout",
          "text": [
            "Qwen3ForCausalLM(\n",
            "  (model): Qwen3Model(\n",
            "    (embed_tokens): Embedding(151936, 1024)\n",
            "    (layers): ModuleList(\n",
            "      (0-23): 24 x Qwen3DecoderLayer(\n",
            "        (self_attn): Qwen3Attention(\n",
            "          (q_proj): Linear(in_features=1024, out_features=2048, bias=False)\n",
            "          (k_proj): Linear(in_features=1024, out_features=1024, bias=False)\n",
            "          (v_proj): Linear(in_features=1024, out_features=1024, bias=False)\n",
            "          (o_proj): Linear(in_features=2048, out_features=1024, bias=False)\n",
            "          (q_norm): Qwen3RMSNorm((128,), eps=1e-06)\n",
            "          (k_norm): Qwen3RMSNorm((128,), eps=1e-06)\n",
            "        )\n",
            "        (mlp): Qwen3MLP(\n",
            "          (gate_proj): Linear(in_features=1024, out_features=3072, bias=False)\n",
            "          (up_proj): Linear(in_features=1024, out_features=3072, bias=False)\n",
            "          (down_proj): Linear(in_features=3072, out_features=1024, bias=False)\n",
            "          (act_fn): SiLU()\n",
            "        )\n",
            "        (input_layernorm): Qwen3RMSNorm((1024,), eps=1e-06)\n",
            "        (post_attention_layernorm): Qwen3RMSNorm((1024,), eps=1e-06)\n",
            "      )\n",
            "    )\n",
            "    (norm): Qwen3RMSNorm((1024,), eps=1e-06)\n",
            "    (rotary_emb): Qwen3RotaryEmbedding()\n",
            "  )\n",
            "  (lm_head): Linear(in_features=1024, out_features=151936, bias=False)\n",
            ")\n"
          ]
        }
      ]
    },
    {
      "cell_type": "markdown",
      "source": [
        "### Creating WikiModel using optipfair."
      ],
      "metadata": {
        "id": "GJZ8Hlpe9JCb"
      }
    },
    {
      "cell_type": "code",
      "source": [
        "from optipfair import analyze_layer_importance, prune_model_depth, prune_model"
      ],
      "metadata": {
        "id": "JUHY9cE-_B6D"
      },
      "execution_count": 33,
      "outputs": []
    },
    {
      "cell_type": "code",
      "source": [
        "\n",
        "wiki_scores = analyze_layer_importance(model,\n",
        "                                       dataloaderwiki,\n",
        "                                       show_progress=True)"
      ],
      "metadata": {
        "colab": {
          "base_uri": "https://localhost:8080/",
          "height": 0
        },
        "id": "nYzO4oOO9Iia",
        "outputId": "1a26ce8f-a236-45f6-cdf7-fd5a7add6c45"
      },
      "execution_count": 34,
      "outputs": [
        {
          "output_type": "stream",
          "name": "stderr",
          "text": [
            "Processing batches: 100%|██████████| 13/13 [00:05<00:00,  2.44it/s]\n"
          ]
        }
      ]
    },
    {
      "cell_type": "code",
      "source": [
        "layers_2_remove = sorted(wiki_scores.keys(), key=lambda x: wiki_scores[x])[:4]\n",
        "print (layers_2_remove)"
      ],
      "metadata": {
        "colab": {
          "base_uri": "https://localhost:8080/",
          "height": 0
        },
        "id": "nX_4Bzqt8gWo",
        "outputId": "e15f0c83-5e29-4389-d100-842fb4d3a230"
      },
      "execution_count": 35,
      "outputs": [
        {
          "output_type": "stream",
          "name": "stdout",
          "text": [
            "[7, 18, 8, 20]\n"
          ]
        }
      ]
    },
    {
      "cell_type": "code",
      "source": [
        "wiki_model = prune_model(\n",
        "        model=deepcopy(model),\n",
        "        pruning_type=\"DEPTH\",\n",
        "        layer_indices=layers_2_remove,\n",
        "        show_progress=True,\n",
        "    )"
      ],
      "metadata": {
        "colab": {
          "base_uri": "https://localhost:8080/",
          "height": 0
        },
        "id": "O-W11SMA-Jjy",
        "outputId": "c131b46a-f926-44cc-e692-ddf2fadb7e97"
      },
      "execution_count": 36,
      "outputs": [
        {
          "output_type": "stream",
          "name": "stderr",
          "text": [
            "Removing layers: 100%|██████████| 28/28 [00:00<00:00, 337472.74it/s]\n"
          ]
        }
      ]
    },
    {
      "cell_type": "code",
      "source": [
        "wiki_model"
      ],
      "metadata": {
        "colab": {
          "base_uri": "https://localhost:8080/",
          "height": 0
        },
        "id": "rQciMIKQDK-G",
        "outputId": "768280f2-9190-4dde-a5a1-9d68790c90f9"
      },
      "execution_count": 37,
      "outputs": [
        {
          "output_type": "execute_result",
          "data": {
            "text/plain": [
              "Qwen3ForCausalLM(\n",
              "  (model): Qwen3Model(\n",
              "    (embed_tokens): Embedding(151936, 1024)\n",
              "    (layers): ModuleList(\n",
              "      (0-23): 24 x Qwen3DecoderLayer(\n",
              "        (self_attn): Qwen3Attention(\n",
              "          (q_proj): Linear(in_features=1024, out_features=2048, bias=False)\n",
              "          (k_proj): Linear(in_features=1024, out_features=1024, bias=False)\n",
              "          (v_proj): Linear(in_features=1024, out_features=1024, bias=False)\n",
              "          (o_proj): Linear(in_features=2048, out_features=1024, bias=False)\n",
              "          (q_norm): Qwen3RMSNorm((128,), eps=1e-06)\n",
              "          (k_norm): Qwen3RMSNorm((128,), eps=1e-06)\n",
              "        )\n",
              "        (mlp): Qwen3MLP(\n",
              "          (gate_proj): Linear(in_features=1024, out_features=3072, bias=False)\n",
              "          (up_proj): Linear(in_features=1024, out_features=3072, bias=False)\n",
              "          (down_proj): Linear(in_features=3072, out_features=1024, bias=False)\n",
              "          (act_fn): SiLU()\n",
              "        )\n",
              "        (input_layernorm): Qwen3RMSNorm((1024,), eps=1e-06)\n",
              "        (post_attention_layernorm): Qwen3RMSNorm((1024,), eps=1e-06)\n",
              "      )\n",
              "    )\n",
              "    (norm): Qwen3RMSNorm((1024,), eps=1e-06)\n",
              "    (rotary_emb): Qwen3RotaryEmbedding()\n",
              "  )\n",
              "  (lm_head): Linear(in_features=1024, out_features=151936, bias=False)\n",
              ")"
            ]
          },
          "metadata": {},
          "execution_count": 37
        }
      ]
    }
  ]
}