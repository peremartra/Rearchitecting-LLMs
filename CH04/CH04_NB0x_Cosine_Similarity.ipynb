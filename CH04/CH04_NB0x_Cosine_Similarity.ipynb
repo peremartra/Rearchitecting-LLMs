{
  "nbformat": 4,
  "nbformat_minor": 0,
  "metadata": {
    "colab": {
      "provenance": [],
      "gpuType": "T4",
      "toc_visible": true,
      "authorship_tag": "ABX9TyMWBxQqGwV0vY/G7Q+Y46hg",
      "include_colab_link": true
    },
    "kernelspec": {
      "name": "python3",
      "display_name": "Python 3"
    },
    "language_info": {
      "name": "python"
    },
    "accelerator": "GPU"
  },
  "cells": [
    {
      "cell_type": "markdown",
      "metadata": {
        "id": "view-in-github",
        "colab_type": "text"
      },
      "source": [
        "<a href=\"https://colab.research.google.com/github/peremartra/Rearchitecting-LLMs/blob/main/CH04/CH04_NB0x_Cosine_Similarity.ipynb\" target=\"_parent\"><img src=\"https://colab.research.google.com/assets/colab-badge.svg\" alt=\"Open In Colab\"/></a>"
      ]
    },
    {
      "cell_type": "markdown",
      "source": [
        "#Rearchitecting LLMs\n",
        "## Surgical Optimization for Hyper-Efficient Models\n",
        "\n",
        "\n",
        "### Chapter 4: Depth Pruning: Building Smaller and Faster Models\n",
        "by [Pere Martra](https://github.com/peremartra)\n",
        "\n",
        "[![LinkedIn](https://img.shields.io/badge/LinkedIn-0077B5?style=flat&logo=linkedin&logoColor=white)](https://www.linkedin.com/in/pere-martra/) [![GitHub](https://img.shields.io/badge/GitHub-100000?style=flat&logo=github&logoColor=white)](https://github.com/peremartra) [![X](https://img.shields.io/badge/X-000000?style=flat&logo=x&logoColor=white)](https://x.com/PereMartra) [![Hugging Face](https://img.shields.io/badge/🤗%20Hugging%20Face-blue)](https://huggingface.co/oopere)\n",
        "\n",
        "_____\n",
        "Colab Environment: GPU T4\n",
        "\n",
        "Models:\n",
        "* Qwen3-0.6B\n",
        "_____\n",
        "\n",
        "In this notebook we explore how to evaluate the contribution of different transformer blocks to the LLM’s objective using a dataset.\n",
        "\n",
        "To do this, we use cosine similarity between the input and the output of the transformer block. The lower the similarity, the greater the modification that block has introduced to the data.\n",
        "\n",
        "Blocks with higher similarity between input and output will be the candidates to be removed from the model.\n"
      ],
      "metadata": {
        "id": "vf04d7qXqwUf"
      }
    },
    {
      "cell_type": "markdown",
      "source": [
        "# Setting up notebook"
      ],
      "metadata": {
        "id": "3XUED5yYwoJz"
      }
    },
    {
      "cell_type": "code",
      "source": [
        "!pip install -q \\\n",
        "      \"torch==2.8.0+cu126\" \\\n",
        "      \"transformers==4.55.4\" \\\n",
        "      \"accelerate==1.10.1\" \\\n",
        "      \"lm_eval==0.4.9.1\" \\\n",
        "      \"sentencepiece==0.2.1\" \\\n",
        "      \"sentence-transformers==5.1.0\" \\\n",
        "      \"optipfair==0.1.5\""
      ],
      "metadata": {
        "id": "4AlU0F9Nu6xT",
        "outputId": "72a26745-460d-4957-f973-eb035af19e52",
        "colab": {
          "base_uri": "https://localhost:8080/"
        }
      },
      "execution_count": 1,
      "outputs": [
        {
          "output_type": "stream",
          "name": "stdout",
          "text": [
            "\u001b[2K     \u001b[90m━━━━━━━━━━━━━━━━━━━━━━━━━━━━━━━━━━━━━━━━\u001b[0m \u001b[32m42.0/42.0 kB\u001b[0m \u001b[31m1.5 MB/s\u001b[0m eta \u001b[36m0:00:00\u001b[0m\n",
            "\u001b[2K     \u001b[90m━━━━━━━━━━━━━━━━━━━━━━━━━━━━━━━━━━━━━━━━\u001b[0m \u001b[32m53.6/53.6 kB\u001b[0m \u001b[31m4.8 MB/s\u001b[0m eta \u001b[36m0:00:00\u001b[0m\n",
            "\u001b[?25h  Preparing metadata (setup.py) ... \u001b[?25l\u001b[?25hdone\n",
            "\u001b[2K     \u001b[90m━━━━━━━━━━━━━━━━━━━━━━━━━━━━━━━━━━━━━━━━\u001b[0m \u001b[32m51.8/51.8 kB\u001b[0m \u001b[31m3.5 MB/s\u001b[0m eta \u001b[36m0:00:00\u001b[0m\n",
            "\u001b[?25h  Preparing metadata (setup.py) ... \u001b[?25l\u001b[?25hdone\n",
            "  Preparing metadata (setup.py) ... \u001b[?25l\u001b[?25hdone\n",
            "\u001b[2K   \u001b[90m━━━━━━━━━━━━━━━━━━━━━━━━━━━━━━━━━━━━━━━━\u001b[0m \u001b[32m11.3/11.3 MB\u001b[0m \u001b[31m74.8 MB/s\u001b[0m eta \u001b[36m0:00:00\u001b[0m\n",
            "\u001b[2K   \u001b[90m━━━━━━━━━━━━━━━━━━━━━━━━━━━━━━━━━━━━━━━━\u001b[0m \u001b[32m7.5/7.5 MB\u001b[0m \u001b[31m83.1 MB/s\u001b[0m eta \u001b[36m0:00:00\u001b[0m\n",
            "\u001b[2K   \u001b[90m━━━━━━━━━━━━━━━━━━━━━━━━━━━━━━━━━━━━━━━━\u001b[0m \u001b[32m483.4/483.4 kB\u001b[0m \u001b[31m33.5 MB/s\u001b[0m eta \u001b[36m0:00:00\u001b[0m\n",
            "\u001b[2K   \u001b[90m━━━━━━━━━━━━━━━━━━━━━━━━━━━━━━━━━━━━━━━━\u001b[0m \u001b[32m44.9/44.9 kB\u001b[0m \u001b[31m3.6 MB/s\u001b[0m eta \u001b[36m0:00:00\u001b[0m\n",
            "\u001b[2K   \u001b[90m━━━━━━━━━━━━━━━━━━━━━━━━━━━━━━━━━━━━━━━━\u001b[0m \u001b[32m491.5/491.5 kB\u001b[0m \u001b[31m39.0 MB/s\u001b[0m eta \u001b[36m0:00:00\u001b[0m\n",
            "\u001b[2K   \u001b[90m━━━━━━━━━━━━━━━━━━━━━━━━━━━━━━━━━━━━━━━━\u001b[0m \u001b[32m84.1/84.1 kB\u001b[0m \u001b[31m4.9 MB/s\u001b[0m eta \u001b[36m0:00:00\u001b[0m\n",
            "\u001b[2K   \u001b[90m━━━━━━━━━━━━━━━━━━━━━━━━━━━━━━━━━━━━━━━━\u001b[0m \u001b[32m293.6/293.6 kB\u001b[0m \u001b[31m13.4 MB/s\u001b[0m eta \u001b[36m0:00:00\u001b[0m\n",
            "\u001b[2K   \u001b[90m━━━━━━━━━━━━━━━━━━━━━━━━━━━━━━━━━━━━━━━━\u001b[0m \u001b[32m104.1/104.1 kB\u001b[0m \u001b[31m9.0 MB/s\u001b[0m eta \u001b[36m0:00:00\u001b[0m\n",
            "\u001b[2K   \u001b[90m━━━━━━━━━━━━━━━━━━━━━━━━━━━━━━━━━━━━━━━━\u001b[0m \u001b[32m3.1/3.1 MB\u001b[0m \u001b[31m51.6 MB/s\u001b[0m eta \u001b[36m0:00:00\u001b[0m\n",
            "\u001b[2K   \u001b[90m━━━━━━━━━━━━━━━━━━━━━━━━━━━━━━━━━━━━━━━━\u001b[0m \u001b[32m91.1/91.1 kB\u001b[0m \u001b[31m8.8 MB/s\u001b[0m eta \u001b[36m0:00:00\u001b[0m\n",
            "\u001b[?25h  Building wheel for rouge-score (setup.py) ... \u001b[?25l\u001b[?25hdone\n",
            "  Building wheel for sqlitedict (setup.py) ... \u001b[?25l\u001b[?25hdone\n",
            "  Building wheel for word2number (setup.py) ... \u001b[?25l\u001b[?25hdone\n"
          ]
        }
      ]
    },
    {
      "cell_type": "code",
      "source": [
        "import torch\n",
        "import torch.nn.functional as F\n",
        "from transformers import AutoModelForCausalLM, AutoTokenizer\n",
        "from datasets import load_dataset\n",
        "from torch.utils.data import DataLoader\n",
        "from tqdm import tqdm\n",
        "import numpy as np\n",
        "from optipfair import analyze_layer_importance, prune_model_depth, prune_model"
      ],
      "metadata": {
        "id": "CCBC8p1FvBsV"
      },
      "execution_count": 2,
      "outputs": []
    },
    {
      "cell_type": "code",
      "execution_count": 3,
      "metadata": {
        "colab": {
          "base_uri": "https://localhost:8080/"
        },
        "id": "R5xvVourquO6",
        "outputId": "4dfa56d8-1f8e-42e8-84e0-3d8e186b35cf"
      },
      "outputs": [
        {
          "output_type": "stream",
          "name": "stdout",
          "text": [
            "Using device: cuda\n",
            "GPU: Tesla T4\n"
          ]
        }
      ],
      "source": [
        "# Check device\n",
        "device = torch.device('cuda' if torch.cuda.is_available() else 'cpu')\n",
        "print(f\"Using device: {device}\")\n",
        "if torch.cuda.is_available():\n",
        "    print(f\"GPU: {torch.cuda.get_device_name(0)}\")"
      ]
    },
    {
      "cell_type": "code",
      "source": [
        "def evaluate_metrics(model, dataloader, device='cuda'):\n",
        "    \"\"\"\n",
        "    Calcula Loss y Perplejidad en un dataset.\n",
        "    IMPORTANTE: Ignora tokens de padding en el cálculo.\n",
        "    \"\"\"\n",
        "    model.eval()\n",
        "    model.to(device)\n",
        "\n",
        "    total_loss = 0\n",
        "    total_tokens = 0\n",
        "\n",
        "    with torch.no_grad():\n",
        "        for batch in tqdm(dataloader, desc=\"Evaluando\"):\n",
        "            input_ids = batch['input_ids'].to(device)\n",
        "            attention_mask = batch['attention_mask'].to(device)  # ← AÑADIR\n",
        "\n",
        "            # Crear labels, ignorando padding (-100 = ignore_index)\n",
        "            labels = input_ids.clone()\n",
        "            labels[attention_mask == 0] = -100  # ← CRÍTICO!\n",
        "\n",
        "            # Forward pass\n",
        "            outputs = model(\n",
        "                input_ids,\n",
        "                attention_mask=attention_mask,  # ← AÑADIR\n",
        "                labels=labels\n",
        "            )\n",
        "\n",
        "            # Contar SOLO tokens reales (sin padding)\n",
        "            num_real_tokens = attention_mask.sum().item()  # ← CAMBIAR\n",
        "\n",
        "            total_loss += outputs.loss.item() * num_real_tokens\n",
        "            total_tokens += num_real_tokens\n",
        "\n",
        "    # Calcular métricas\n",
        "    avg_loss = total_loss / total_tokens\n",
        "    perplexity = np.exp(avg_loss)\n",
        "\n",
        "    return {\n",
        "        'loss': avg_loss,\n",
        "        'perplexity': perplexity\n",
        "    }"
      ],
      "metadata": {
        "id": "QW6vTFmcqcXM"
      },
      "execution_count": 4,
      "outputs": []
    },
    {
      "cell_type": "markdown",
      "source": [
        "## Load Model"
      ],
      "metadata": {
        "id": "ghFZPniOw0fp"
      }
    },
    {
      "cell_type": "code",
      "source": [
        "MODEL_NAME = 'Qwen/Qwen3-0.6B'\n",
        "tokenizer = AutoTokenizer.from_pretrained(MODEL_NAME)\n",
        "if tokenizer.pad_token is None:\n",
        "    tokenizer.pad_token = tokenizer.eos_token\n",
        "\n",
        "model = AutoModelForCausalLM.from_pretrained(\n",
        "    MODEL_NAME,\n",
        "    torch_dtype=torch.float16,\n",
        "    device_map=\"auto\"\n",
        ")\n",
        "model.eval()"
      ],
      "metadata": {
        "id": "MpLvzaifv_B6"
      },
      "execution_count": null,
      "outputs": []
    },
    {
      "cell_type": "markdown",
      "source": [
        "## Load Datasets"
      ],
      "metadata": {
        "id": "gP2pYvmfw3hV"
      }
    },
    {
      "cell_type": "code",
      "source": [
        "RECOVERY_SAMPLES = 100\n",
        "BATCH_SIZE = 8\n",
        "MAX_LENGTH = 512"
      ],
      "metadata": {
        "id": "B0INZII5BIMM"
      },
      "execution_count": 6,
      "outputs": []
    },
    {
      "cell_type": "markdown",
      "source": [
        "We’re going to use two different datasets to visualize how some layers are more important than others depending on the data being used.\n",
        "\n",
        "* **Wikitext**: Contains highly complex text. To process this kind of text, the model needs to rely on its deeper layers to understand context, semantic relations, and complex grammatical structures.\n",
        "* **SMS Spam**: A completely different dataset, made up of short sentences with simple and direct language. It doesn’t require deep semantic understanding.\n"
      ],
      "metadata": {
        "id": "2epEOHrEbT36"
      }
    },
    {
      "cell_type": "code",
      "source": [
        "datawiki = load_dataset('wikitext', 'wikitext-2-raw-v1', split=f'train[:{RECOVERY_SAMPLES}]')\n",
        "\n",
        "datasms = load_dataset('sms_spam', split=f'train[:{RECOVERY_SAMPLES}]')"
      ],
      "metadata": {
        "id": "0AxpLIebQoJe"
      },
      "execution_count": null,
      "outputs": []
    },
    {
      "cell_type": "code",
      "source": [
        "def prepare_dataset(dataset, text_field='text'):\n",
        "  def tokenize_function(examples):\n",
        "      if text_field in examples:\n",
        "          texts = examples[text_field]\n",
        "      elif 'sms' in examples:  # SMS dataset\n",
        "          texts = examples['sms']\n",
        "      elif 'text' in examples:\n",
        "          texts = examples['text']\n",
        "      else:\n",
        "          texts = examples[list(examples.keys())[0]]  # First available field\n",
        "\n",
        "      return tokenizer(\n",
        "          texts,\n",
        "          truncation=True,\n",
        "          padding='max_length',\n",
        "          max_length=MAX_LENGTH,\n",
        "          return_tensors='pt'\n",
        "      )\n",
        "\n",
        "  tokenized = dataset.map(tokenize_function, batched=True, remove_columns=dataset.column_names)\n",
        "  tokenized.set_format(type='torch', columns=['input_ids', 'attention_mask'])\n",
        "  return DataLoader(tokenized, batch_size=BATCH_SIZE, shuffle=False)\n"
      ],
      "metadata": {
        "id": "8YAKyNaL6bqr"
      },
      "execution_count": 8,
      "outputs": []
    },
    {
      "cell_type": "code",
      "source": [
        "# Crear dataloaders\n",
        "dataloaderwiki = prepare_dataset(datawiki)  # WikiText (largo)\n",
        "dataloadersms = prepare_dataset(datasms)  # SMS (corto)"
      ],
      "metadata": {
        "id": "VDYfIVBFXj_9"
      },
      "execution_count": null,
      "outputs": []
    },
    {
      "cell_type": "markdown",
      "source": [
        "# 4.2 Block Selection Strategies\n",
        "In this section, we're going to explore different strategies to make this decision. We'll start with the most direct and simple approaches, known as static or \"data-free\"\n",
        "\n"
      ],
      "metadata": {
        "id": "KCOV99WOlZoL"
      }
    },
    {
      "cell_type": "markdown",
      "source": [
        "## 4.2.1 Static Approaches (Data-Free)\n",
        "Static approaches are those based on analyzing the structure and initial weights of the model."
      ],
      "metadata": {
        "id": "HU_UDY4oPUbv"
      }
    },
    {
      "cell_type": "code",
      "source": [
        "# Based in position.\n",
        "from copy import deepcopy\n",
        "\n",
        "num_layers = len(model.model.layers)  # 32\n",
        "layers_to_keep = num_layers - 4\n",
        "print(f\"Number of layers: {num_layers}\")\n",
        "print(f\"Layers to keep: {layers_to_keep}\")\n",
        "\n",
        "pruned_model = deepcopy(model)\n",
        "pruned_model.model.layers = pruned_model.model.layers[:layers_to_keep]\n",
        "print(f\"Number of layers in pruned model: {len(pruned_model.model.layers)}\")"
      ],
      "metadata": {
        "colab": {
          "base_uri": "https://localhost:8080/"
        },
        "id": "7s61iZHnU0Yd",
        "outputId": "a4de0934-e1b4-4f5c-97a2-b2e4519e52ac"
      },
      "execution_count": 10,
      "outputs": [
        {
          "output_type": "stream",
          "name": "stdout",
          "text": [
            "Number of layers: 28\n",
            "Layers to keep: 24\n",
            "Number of layers in pruned model: 24\n"
          ]
        }
      ]
    },
    {
      "cell_type": "code",
      "source": [
        "# Based in weigths\n",
        "def calculate_layer_magnitude(layer):\n",
        "    total_magnitude = 0\n",
        "    for param in layer.parameters():\n",
        "        total_magnitude += torch.norm(param).item()\n",
        "    return total_magnitude\n",
        "\n",
        "# Calculate magnitude for each layer\n",
        "layer_magnitudes = []\n",
        "for i, layer in enumerate(model.model.layers):\n",
        "    magnitude = calculate_layer_magnitude(layer)\n",
        "    layer_magnitudes.append((i, magnitude))\n",
        "\n",
        "# Remove layers with lower magnitude\n",
        "layer_magnitudes.sort(key=lambda x: x[1])  # Sort by magnitude\n",
        "layers_to_remove = [idx for idx, _ in layer_magnitudes[:4]]  # Remove layers with lower\n",
        "\n",
        "print(layers_to_remove)"
      ],
      "metadata": {
        "colab": {
          "base_uri": "https://localhost:8080/"
        },
        "id": "TjmyRAOWl4ku",
        "outputId": "093f19b1-da4e-443c-a8a2-8b14c8ece325"
      },
      "execution_count": 11,
      "outputs": [
        {
          "output_type": "stream",
          "name": "stdout",
          "text": [
            "[8, 2, 7, 6]\n"
          ]
        }
      ]
    },
    {
      "cell_type": "markdown",
      "source": [
        "# 4.3 Data-driven analysis and pruning"
      ],
      "metadata": {
        "id": "58jFH4STU0_D"
      }
    },
    {
      "cell_type": "markdown",
      "source": [
        "To decide which layers to remove, we measure their contribution using cosine similarity. We chose this metric because it’s perfect for this task: it measures the change in semantic direction between the input and output vectors of a layer, ignoring their magnitude.\n",
        "\n",
        "This gives us a normalized score that we convert into an importance score (1 - similarity).\n",
        "\n",
        "A score close to zero identifies a “passive” layer that barely alters the information, making it an ideal candidate for removal.\n"
      ],
      "metadata": {
        "id": "nGHINZat6ldT"
      }
    },
    {
      "cell_type": "markdown",
      "source": [
        "## 4.3.1 Using PyTorch hooks\n",
        "\n",
        "\n",
        "\n",
        "\n",
        "\n"
      ],
      "metadata": {
        "id": "ECZxEn7TzICK"
      }
    },
    {
      "cell_type": "markdown",
      "source": [
        "We define a simple function to use as a hook that shows the shape of the input tensor and the output tensor."
      ],
      "metadata": {
        "id": "7JckMkQF8B3L"
      }
    },
    {
      "cell_type": "code",
      "source": [
        "def print_shape_hook(module, input, output):\n",
        "    \"\"\"\n",
        "    Hook function that prints tensor shapes\n",
        "    module: the layer where the hook is attached\n",
        "    input: tuple of input tensors to the layer\n",
        "    output: the output tensor from the layer\n",
        "    \"\"\"\n",
        "    # Input is a tuple, we take the first element (the hidden states)\n",
        "    print(f\"Module class: {module.__class__.__name__}\")\n",
        "    print(f\"Module id: {id(module)}\")\n",
        "    input_tensor = input[0]\n",
        "    print(f\"Input shape:  {input_tensor.shape}\")\n",
        "    print(f\"Output shape: {output.shape}\")"
      ],
      "metadata": {
        "id": "opHXnaK74FKk"
      },
      "execution_count": 12,
      "outputs": []
    },
    {
      "cell_type": "markdown",
      "source": [
        "We register the hook in the first transformer block.Retry"
      ],
      "metadata": {
        "id": "p0uuj7VN8IiO"
      }
    },
    {
      "cell_type": "code",
      "source": [
        "# Register the hook on the first transformer block\n",
        "first_layer = model.model.layers[0]\n",
        "hook_handle = first_layer.register_forward_hook(print_shape_hook)"
      ],
      "metadata": {
        "id": "2F2sONdy4_-t"
      },
      "execution_count": 13,
      "outputs": []
    },
    {
      "cell_type": "markdown",
      "source": [
        "We run a forward with the model and get the hook result that Pytorch executes automatically."
      ],
      "metadata": {
        "id": "N6XEfZCm-bHU"
      }
    },
    {
      "cell_type": "code",
      "source": [
        "# Test with a simple input\n",
        "test_text = \"He sat on the river bank to fish\"\n",
        "inputs = tokenizer(test_text, return_tensors=\"pt\").to(device)\n",
        "with torch.no_grad():\n",
        "    outputs = model(**inputs)"
      ],
      "metadata": {
        "colab": {
          "base_uri": "https://localhost:8080/"
        },
        "id": "A3jfBz7N5elD",
        "outputId": "06899555-3b31-448e-96b7-eb2e9f1c3531"
      },
      "execution_count": 14,
      "outputs": [
        {
          "output_type": "stream",
          "name": "stdout",
          "text": [
            "Module class: Qwen3DecoderLayer\n",
            "Module id: 135823989006192\n",
            "Input shape:  torch.Size([1, 8, 1024])\n",
            "Output shape: torch.Size([1, 8, 1024])\n"
          ]
        }
      ]
    },
    {
      "cell_type": "markdown",
      "source": [
        "We remove the hooks."
      ],
      "metadata": {
        "id": "_p7LALtN_BVn"
      }
    },
    {
      "cell_type": "code",
      "source": [
        "# Remove the hook when done\n",
        "hook_handle.remove()"
      ],
      "metadata": {
        "id": "J-aitGMa5vOp"
      },
      "execution_count": 15,
      "outputs": []
    },
    {
      "cell_type": "markdown",
      "source": [
        "If we run the forward again, the hook no longer executesRetry"
      ],
      "metadata": {
        "id": "MLJnxUbY_B_T"
      }
    },
    {
      "cell_type": "code",
      "source": [
        "with torch.no_grad():\n",
        "    outputs = model(**inputs)"
      ],
      "metadata": {
        "id": "IL4rZJJy5slH"
      },
      "execution_count": 16,
      "outputs": []
    },
    {
      "cell_type": "markdown",
      "source": [
        "## 4.3.2 Understanding cosine similarity."
      ],
      "metadata": {
        "id": "sehVQjflwkOS"
      }
    },
    {
      "cell_type": "code",
      "source": [
        "from sentence_transformers import SentenceTransformer\n",
        "import torch\n",
        "import torch.nn.functional as F\n",
        "\n",
        "# Load standard sentence embedding model\n",
        "modelst = SentenceTransformer('all-MiniLM-L6-v2')\n",
        "\n",
        "# Three example sentences: two semantically similar, one different\n",
        "sentences = [\n",
        "    \"The cat naps on the sofa.\",\n",
        "    \"The feline is peacefully slumbering on the couch.\",\n",
        "    \"The bus stops at the corner.\"\n",
        "]\n",
        "\n",
        "embeddings = modelst.encode(sentences, convert_to_tensor=True)\n",
        "\n",
        "print(f\"Embedding shape: {embeddings.shape}\")\n",
        "print(f\"Each sentence is represented by {embeddings.shape[1]} dimensions\\n\")\n",
        "\n",
        "# Calculate cosine similarity matrix using PyTorch\n",
        "# We need to compute all pairs, so we use matrix multiplication\n",
        "# First normalize embeddings\n",
        "embeddings_normalized = F.normalize(embeddings, p=2, dim=1)\n",
        "\n",
        "# Compute similarity matrix (cosine = dot product of normalized vectors)\n",
        "similarity_matrix = torch.mm(embeddings_normalized, embeddings_normalized.T)\n",
        "\n",
        "print(\"Cosine Similarity Matrix:\")\n",
        "print(similarity_matrix)\n",
        "print(\"\\nInterpretation:\")\n",
        "print(f\"Sentence 1 vs Sentence 2: {similarity_matrix[0][1]:.4f} (semantically similar)\")\n",
        "print(f\"Sentence 1 vs Sentence 3: {similarity_matrix[0][2]:.4f} (different topics)\")\n",
        "print(\"\\nNote: Values close to 1.0 indicate high similarity\")\n"
      ],
      "metadata": {
        "id": "Wvq73_GVwnRh"
      },
      "execution_count": null,
      "outputs": []
    },
    {
      "cell_type": "markdown",
      "source": [
        "## 4.3.3 Measuring Block Importance\n"
      ],
      "metadata": {
        "id": "Af4D7jK87Kud"
      }
    },
    {
      "cell_type": "markdown",
      "source": [
        "To capture the input and output of the layers we use PyTorch hooks, which let us study/spy on the model’s behavior.\n"
      ],
      "metadata": {
        "id": "IC3EkRvAeZWH"
      }
    },
    {
      "cell_type": "code",
      "source": [
        "def setup_layer_hooks(model):\n",
        "    \"\"\"\n",
        "    Register hooks to capture input/output of each transformer layer\n",
        "    Returns: hooks list and storage dictionaries\n",
        "    \"\"\"\n",
        "    num_layers = len(model.model.layers)\n",
        "    layer_inputs = {}\n",
        "    layer_outputs = {}\n",
        "    hooks = []\n",
        "\n",
        "    def create_hook(layer_idx): #B\n",
        "        def hook(module, input, output): #C\n",
        "            input_tensor = input[0] if isinstance(input, tuple) else input\n",
        "            layer_inputs[layer_idx] = input_tensor.detach() #D\n",
        "\n",
        "            output_tensor = output[0] if isinstance(output, tuple) else output\n",
        "            layer_outputs[layer_idx] = output_tensor.detach() #D\n",
        "        return hook\n",
        "\n",
        "    # Register hooks for each layer\n",
        "    for i, layer in enumerate(model.model.layers):\n",
        "        hooks.append(\n",
        "            layer.register_forward_hook(create_hook(i))\n",
        "            )\n",
        "\n",
        "    return hooks, layer_inputs, layer_outputs, num_layers"
      ],
      "metadata": {
        "id": "vT40G6hq6itp"
      },
      "execution_count": 18,
      "outputs": []
    },
    {
      "cell_type": "markdown",
      "source": [
        "### Calculate Cosine Similarity"
      ],
      "metadata": {
        "id": "qBTC2Dh97jx4"
      }
    },
    {
      "cell_type": "code",
      "source": [
        "def calculate_cosine_importance(input_tensor, output_tensor, layer_idx, is_first_batch=False):\n",
        "    \"\"\"\n",
        "    Calculate importance score using cosine similarity between input and output tensors.\n",
        "    Optimized for GPU by computing similarity on full batch before filtering.\n",
        "\n",
        "    Args:\n",
        "        input_tensor: Input hidden states to the layer\n",
        "        output_tensor: Output hidden states from the layer\n",
        "        layer_idx: Layer index for debugging\n",
        "        is_first_batch: Whether to print debug warnings\n",
        "\n",
        "    Returns:\n",
        "        importance: Score from 0.0 to 1.0 (higher = more important)\n",
        "    \"\"\"\n",
        "    # Validate tensor dimensions\n",
        "    if input_tensor.numel() == 0 or output_tensor.numel() == 0:\n",
        "        return 0.0\n",
        "\n",
        "    # Flatten tensors to [batch_size, features]\n",
        "    input_flat = input_tensor.view(input_tensor.size(0), -1)\n",
        "    output_flat = output_tensor.view(output_tensor.size(0), -1)\n",
        "\n",
        "    # Compute cosine similarity for entire batch (GPU-optimized)\n",
        "    similarities = F.cosine_similarity(input_flat, output_flat, dim=1)\n",
        "\n",
        "    # Filter non-finite values after computation\n",
        "    finite_similarities = similarities[torch.isfinite(similarities)]\n",
        "\n",
        "    # Handle case with no valid samples\n",
        "    if finite_similarities.numel() == 0:\n",
        "        if is_first_batch:\n",
        "            print(f\"Warning: Layer {layer_idx} produced all inf/nan similarities\")\n",
        "        return 0.0\n",
        "\n",
        "    # Importance = 1 - average similarity\n",
        "    # (low similarity = high change = high importance)\n",
        "    importance = 1.0 - finite_similarities.mean().item()\n",
        "\n",
        "    return importance"
      ],
      "metadata": {
        "id": "VYCdoz0ekTHS"
      },
      "execution_count": 19,
      "outputs": []
    },
    {
      "cell_type": "markdown",
      "source": [
        "We aggregate the results"
      ],
      "metadata": {
        "id": "VkbDmAVNewak"
      }
    },
    {
      "cell_type": "markdown",
      "source": [
        "This function takes the importance scores collected from all data batches for each layer. Then, it computes the average of these scores to get a single final consolidated importance score for each layer of the model."
      ],
      "metadata": {
        "id": "AL33kTqtfbz_"
      }
    },
    {
      "cell_type": "code",
      "source": [
        "def calculate_layer_importance_cosine(model, dataloader, device):\n",
        "    \"\"\"\n",
        "    Calculate layer importance using cosine similarity between input/output representations\n",
        "\n",
        "    Args:\n",
        "        model: Transformer model\n",
        "        dataloader: DataLoader with tokenized text data\n",
        "        device: torch device (cuda/cpu)\n",
        "\n",
        "    Returns:\n",
        "        dict: Layer importance scores {layer_idx: importance_score}\n",
        "    \"\"\"\n",
        "    # Setup hooks and storage\n",
        "    hooks, layer_inputs, layer_outputs, num_layers = setup_layer_hooks(model)\n",
        "    layer_importance_scores = {i: [] for i in range(num_layers)}\n",
        "\n",
        "    with torch.no_grad():\n",
        "        for batch_idx, batch in enumerate(tqdm(dataloader,\n",
        "                                               desc=\"Processing batches\")):\n",
        "            inputs = {k: v.to(device) for k, v in batch.items()}\n",
        "\n",
        "            # Forward pass to trigger hooks\n",
        "            model(**inputs)\n",
        "\n",
        "            # Calculate importance for each layer\n",
        "            for layer_idx in range(num_layers):\n",
        "                if layer_idx not in layer_inputs or layer_idx not in layer_outputs:\n",
        "                    raise RuntimeError(f\"Layer {layer_idx} Hook failed.\")\n",
        "\n",
        "\n",
        "                importance = calculate_cosine_importance(\n",
        "                    layer_inputs[layer_idx],\n",
        "                    layer_outputs[layer_idx],\n",
        "                    layer_idx)\n",
        "\n",
        "                layer_importance_scores[layer_idx].append(importance)\n",
        "\n",
        "            # Clear storage for next batch\n",
        "            layer_inputs.clear()\n",
        "            layer_outputs.clear()\n",
        "\n",
        "    # Cleanup hooks\n",
        "    [hook.remove() for hook in hooks]\n",
        "\n",
        "    # Aggregate final scores\n",
        "    final_scores = {}\n",
        "\n",
        "    for layer_idx, scores in layer_importance_scores.items():\n",
        "      valid_scores = [s for s in scores if np.isfinite(s)]\n",
        "      if not valid_scores:\n",
        "          raise RuntimeError(f\"Layer {layer_idx} not captured. Hook failed.\")\n",
        "      else:\n",
        "          final_scores[layer_idx] = np.mean(valid_scores)\n",
        "\n",
        "    return final_scores"
      ],
      "metadata": {
        "id": "iRjXO8fd7uWz"
      },
      "execution_count": 20,
      "outputs": []
    },
    {
      "cell_type": "markdown",
      "source": [
        "### Obtaining & Studying results"
      ],
      "metadata": {
        "id": "LXZvQP6Ufge-"
      }
    },
    {
      "cell_type": "code",
      "source": [
        "def print_sorted_importance(scores):\n",
        "    for i, (layer, score) in enumerate(sorted(scores.items(), key=lambda x: float(x[1]), reverse=True), 1):\n",
        "        print(f\"Layer {layer:2d}: {float(score):.6f}\")"
      ],
      "metadata": {
        "id": "KxECy2RMVKaN"
      },
      "execution_count": 21,
      "outputs": []
    },
    {
      "cell_type": "code",
      "source": [
        "wiki_importance= calculate_layer_importance_cosine(\n",
        "    model,\n",
        "    dataloaderwiki,\n",
        "    device)"
      ],
      "metadata": {
        "id": "iw68nEqr76P-"
      },
      "execution_count": null,
      "outputs": []
    },
    {
      "cell_type": "code",
      "source": [
        "print_sorted_importance(wiki_importance)"
      ],
      "metadata": {
        "colab": {
          "base_uri": "https://localhost:8080/"
        },
        "id": "uebaKFEe8GpS",
        "outputId": "b0d701c3-8f67-4d2b-aff0-c237b8dbde41"
      },
      "execution_count": 23,
      "outputs": [
        {
          "output_type": "stream",
          "name": "stdout",
          "text": [
            "Layer  0: 0.890395\n",
            "Layer  2: 0.771541\n",
            "Layer  1: 0.307580\n",
            "Layer 27: 0.173190\n",
            "Layer 23: 0.082933\n",
            "Layer 25: 0.074669\n",
            "Layer 24: 0.072416\n",
            "Layer 22: 0.069261\n",
            "Layer 26: 0.063664\n",
            "Layer 21: 0.062763\n",
            "Layer 17: 0.060885\n",
            "Layer 19: 0.054763\n",
            "Layer 16: 0.051645\n",
            "Layer  4: 0.051382\n",
            "Layer 11: 0.051194\n",
            "Layer  9: 0.049692\n",
            "Layer 13: 0.048528\n",
            "Layer  5: 0.047476\n",
            "Layer  6: 0.047138\n",
            "Layer 14: 0.045335\n",
            "Layer 15: 0.045335\n",
            "Layer  3: 0.044283\n",
            "Layer 12: 0.044246\n",
            "Layer 10: 0.044171\n",
            "Layer 20: 0.042405\n",
            "Layer  8: 0.040152\n",
            "Layer 18: 0.037861\n",
            "Layer  7: 0.033391\n"
          ]
        }
      ]
    },
    {
      "cell_type": "code",
      "source": [
        "sms_importance = calculate_layer_importance_cosine(\n",
        "    model,\n",
        "    dataloadersms,\n",
        "    device)"
      ],
      "metadata": {
        "id": "QTywurOkR7Cm"
      },
      "execution_count": null,
      "outputs": []
    },
    {
      "cell_type": "code",
      "source": [
        "print_sorted_importance(sms_importance)"
      ],
      "metadata": {
        "colab": {
          "base_uri": "https://localhost:8080/"
        },
        "id": "rPKWuhurSUpe",
        "outputId": "b2a5c8f6-457f-4f6d-9a7e-e2c70fdd3604"
      },
      "execution_count": 25,
      "outputs": [
        {
          "output_type": "stream",
          "name": "stdout",
          "text": [
            "Layer  2: 0.948648\n",
            "Layer  0: 0.896963\n",
            "Layer  1: 0.277306\n",
            "Layer 27: 0.147085\n",
            "Layer 21: 0.025203\n",
            "Layer 24: 0.023287\n",
            "Layer 25: 0.020959\n",
            "Layer 26: 0.017353\n",
            "Layer 22: 0.017315\n",
            "Layer 20: 0.016752\n",
            "Layer 19: 0.015925\n",
            "Layer 23: 0.014836\n",
            "Layer 18: 0.008977\n",
            "Layer 17: 0.006686\n",
            "Layer 16: 0.006197\n",
            "Layer 15: 0.005334\n",
            "Layer 14: 0.005258\n",
            "Layer 11: 0.004845\n",
            "Layer 10: 0.004770\n",
            "Layer 12: 0.004094\n",
            "Layer  9: 0.003906\n",
            "Layer 13: 0.003906\n",
            "Layer  8: 0.003418\n",
            "Layer  7: 0.002967\n",
            "Layer  6: 0.002817\n",
            "Layer  5: 0.002329\n",
            "Layer  4: 0.001953\n",
            "Layer  3: 0.001465\n"
          ]
        }
      ]
    },
    {
      "cell_type": "code",
      "source": [
        "def compare_importance(scores1, scores2, name1=\"Dataset1\", name2=\"Dataset2\"):\n",
        "    print(f\"{'Layer':<5} {name1:<10} {name2:<10} {'Diff':<8}\")\n",
        "    print(\"-\" * 35)\n",
        "    for layer in sorted(scores1.keys()):\n",
        "        s1, s2 = float(scores1[layer]), float(scores2[layer])\n",
        "        diff = abs(s1 - s2)\n",
        "        print(f\"{layer:<5} {s1:<10.4f} {s2:<10.4f} {diff:<8.4f}\")"
      ],
      "metadata": {
        "id": "7a63I8HvUnIm"
      },
      "execution_count": 26,
      "outputs": []
    },
    {
      "cell_type": "code",
      "source": [
        "compare_importance(wiki_importance, sms_importance, \"wiki\", \"SMS\")"
      ],
      "metadata": {
        "colab": {
          "base_uri": "https://localhost:8080/"
        },
        "id": "_IBQcFl8gyI_",
        "outputId": "6b155ed1-8a59-42cc-df0d-065ecfb31231"
      },
      "execution_count": 27,
      "outputs": [
        {
          "output_type": "stream",
          "name": "stdout",
          "text": [
            "Layer wiki       SMS        Diff    \n",
            "-----------------------------------\n",
            "0     0.8904     0.8970     0.0066  \n",
            "1     0.3076     0.2773     0.0303  \n",
            "2     0.7715     0.9486     0.1771  \n",
            "3     0.0443     0.0015     0.0428  \n",
            "4     0.0514     0.0020     0.0494  \n",
            "5     0.0475     0.0023     0.0451  \n",
            "6     0.0471     0.0028     0.0443  \n",
            "7     0.0334     0.0030     0.0304  \n",
            "8     0.0402     0.0034     0.0367  \n",
            "9     0.0497     0.0039     0.0458  \n",
            "10    0.0442     0.0048     0.0394  \n",
            "11    0.0512     0.0048     0.0463  \n",
            "12    0.0442     0.0041     0.0402  \n",
            "13    0.0485     0.0039     0.0446  \n",
            "14    0.0453     0.0053     0.0401  \n",
            "15    0.0453     0.0053     0.0400  \n",
            "16    0.0516     0.0062     0.0454  \n",
            "17    0.0609     0.0067     0.0542  \n",
            "18    0.0379     0.0090     0.0289  \n",
            "19    0.0548     0.0159     0.0388  \n",
            "20    0.0424     0.0168     0.0257  \n",
            "21    0.0628     0.0252     0.0376  \n",
            "22    0.0693     0.0173     0.0519  \n",
            "23    0.0829     0.0148     0.0681  \n",
            "24    0.0724     0.0233     0.0491  \n",
            "25    0.0747     0.0210     0.0537  \n",
            "26    0.0637     0.0174     0.0463  \n",
            "27    0.1732     0.1471     0.0261  \n"
          ]
        }
      ]
    },
    {
      "cell_type": "code",
      "source": [
        "import matplotlib.pyplot as plt\n",
        "\n",
        "def compare_importance(scores1, scores2, name1=\"Dataset1\", name2=\"Dataset2\",\n",
        "                      start=None, end=None, model=\"Qwen3-0.6B\"):\n",
        "    layers = sorted(scores1.keys())\n",
        "    if start is not None or end is not None:\n",
        "        layers = [l for l in layers if (start is None or l >= start) and\n",
        "                 (end is None or l <= end)]\n",
        "\n",
        "    vals1 = [float(scores1[l]) for l in layers]\n",
        "    vals2 = [float(scores2[l]) for l in layers]\n",
        "\n",
        "    x = np.arange(len(layers))\n",
        "    width = 0.35\n",
        "\n",
        "    plt.figure(figsize=(10, 4))\n",
        "    plt.bar(x - width/2, vals1, width, label=name1, alpha=0.7)\n",
        "    plt.bar(x + width/2, vals2, width, label=name2, alpha=0.7)\n",
        "\n",
        "    plt.xlabel('Transformer Block')\n",
        "    plt.ylabel('Cosine Distance')\n",
        "    plt.xticks(x, layers)\n",
        "    plt.legend()\n",
        "    plt.title(f\"Transformer Block Importance on {model}: SMS vs. WikiText\")\n",
        "    plt.grid(True, alpha=0.3)\n",
        "    plt.tight_layout()\n",
        "    plt.show()"
      ],
      "metadata": {
        "id": "BVLe5ePEzH26"
      },
      "execution_count": 28,
      "outputs": []
    },
    {
      "cell_type": "code",
      "source": [
        "compare_importance(wiki_importance, sms_importance, name1=\"wikitext\", name2=\"SMS_spam\", start=3, end=20)"
      ],
      "metadata": {
        "id": "ZYEu7GhWzUjB",
        "outputId": "451ce2b0-38d6-4d63-8ff3-85d442571025",
        "colab": {
          "base_uri": "https://localhost:8080/",
          "height": 266
        }
      },
      "execution_count": 29,
      "outputs": [
        {
          "output_type": "display_data",
          "data": {
            "text/plain": [
              "<Figure size 1000x400 with 1 Axes>"
            ],
            "image/png": "[encoded data removed]"
          },
          "metadata": {}
        }
      ]
    },
    {
      "cell_type": "code",
      "source": [
        "compare_importance(wiki_importance, sms_importance, name1=\"wikitext\", name2=\"SMS_spam\", start=0, end=2)"
      ],
      "metadata": {
        "id": "3a1QrGnsGpM7",
        "outputId": "18596866-11bd-41af-c368-71b2b2829c77",
        "colab": {
          "base_uri": "https://localhost:8080/",
          "height": 266
        }
      },
      "execution_count": 30,
      "outputs": [
        {
          "output_type": "display_data",
          "data": {
            "text/plain": [
              "<Figure size 1000x400 with 1 Axes>"
            ],
            "image/png": "[encoded data removed]"
          },
          "metadata": {}
        }
      ]
    },
    {
      "cell_type": "code",
      "source": [
        "compare_importance(wiki_importance, sms_importance, name1=\"wikitext\", name2=\"SMS_spam\", start=21, end=27)"
      ],
      "metadata": {
        "id": "frGTN12cGy-A",
        "outputId": "1326bd00-8b05-4d2c-b515-e5df872ec9c4",
        "colab": {
          "base_uri": "https://localhost:8080/",
          "height": 266
        }
      },
      "execution_count": 31,
      "outputs": [
        {
          "output_type": "display_data",
          "data": {
            "text/plain": [
              "<Figure size 1000x400 with 1 Axes>"
            ],
            "image/png": "[encoded data removed]"
          },
          "metadata": {}
        }
      ]
    },
    {
      "cell_type": "markdown",
      "source": [
        "The results of our comparison reveal a clear pattern. The first layers (0–2) and the last one (27) prove to be important in both datasets, suggesting that they perform fundamental functions, such as the initial processing of the input and the consolidation of the output.\n",
        "\n",
        "The key difference lies in the behavior of the intermediate layers (roughly 3–26). While in the complex text of Wikitext these layers carry out a measurable job of semantic refinement, in the simple SMS text their contribution is practically null, becoming “passive.” This shows that the importance of a layer varies depending on the complexity of the task, thus validating “depth pruning” as an effective strategy to create more efficient models for specialized tasks.\n"
      ],
      "metadata": {
        "id": "yw3B3bVZia7W"
      }
    },
    {
      "cell_type": "markdown",
      "source": [
        "### Creating models using optipfair."
      ],
      "metadata": {
        "id": "GJZ8Hlpe9JCb"
      }
    },
    {
      "cell_type": "markdown",
      "source": [
        "We'll create a function to select the blocks to delete.\n",
        "\n",
        "This function can use the protection heuristic, always keeping the first four blocks and the last two. It will also avoid deleting two consecutive blocks.\n"
      ],
      "metadata": {
        "id": "YeW_xl3BPvxY"
      }
    },
    {
      "cell_type": "code",
      "source": [
        "def select_layers_to_prune(importance_scores, num_layers=2, heuristic_protection=True):\n",
        "    \"\"\"\n",
        "    Selecciona capas siguiendo mejores prácticas:\n",
        "    - No consecutivas\n",
        "    - Distribuidas en el modelo\n",
        "    - Evitar capas muy tempranas (0-2) y última (27)\n",
        "    \"\"\"\n",
        "    # Order by importance\n",
        "    sorted_layers = sorted(importance_scores.items(), key=lambda x: x[1])\n",
        "\n",
        "    selected = []\n",
        "    for layer, score in sorted_layers:\n",
        "        # Skip protected layers\n",
        "        if heuristic_protection and layer in [0, 1, 2, 3, 27]:  # Primeras y última\n",
        "            continue\n",
        "\n",
        "        # Skip if adjacent\n",
        "        if heuristic_protection and any(abs(layer - l) == 1 for l in selected):\n",
        "            continue\n",
        "\n",
        "        selected.append(layer)\n",
        "\n",
        "        if len(selected) >= num_layers:\n",
        "            break\n",
        "\n",
        "    return selected"
      ],
      "metadata": {
        "id": "RCUQEEbm2GRz"
      },
      "execution_count": 32,
      "outputs": []
    },
    {
      "cell_type": "code",
      "source": [],
      "metadata": {
        "id": "JUHY9cE-_B6D"
      },
      "execution_count": 33,
      "outputs": []
    },
    {
      "cell_type": "code",
      "source": [
        "wiki_scores = analyze_layer_importance(model,\n",
        "                                       dataloaderwiki,\n",
        "                                       show_progress=True)"
      ],
      "metadata": {
        "colab": {
          "base_uri": "https://localhost:8080/"
        },
        "id": "nYzO4oOO9Iia",
        "outputId": "0cc0801f-eafb-4c58-81a7-d9be25b3ddd2"
      },
      "execution_count": 34,
      "outputs": [
        {
          "output_type": "stream",
          "name": "stderr",
          "text": [
            "Processing batches: 100%|██████████| 13/13 [00:05<00:00,  2.48it/s]\n"
          ]
        }
      ]
    },
    {
      "cell_type": "code",
      "source": [
        "wiki_layers_2_remove = select_layers_to_prune(wiki_scores, num_layers=3)\n",
        "print (wiki_layers_2_remove)"
      ],
      "metadata": {
        "colab": {
          "base_uri": "https://localhost:8080/"
        },
        "id": "nX_4Bzqt8gWo",
        "outputId": "6a53929c-bc13-4429-b1ed-395fa9d11b18"
      },
      "execution_count": 35,
      "outputs": [
        {
          "output_type": "stream",
          "name": "stdout",
          "text": [
            "[7, 18, 20]\n"
          ]
        }
      ]
    },
    {
      "cell_type": "code",
      "source": [
        "wiki_model = prune_model(\n",
        "        model=deepcopy(model),\n",
        "        pruning_type=\"DEPTH\",\n",
        "        layer_indices=wiki_layers_2_remove,\n",
        "        show_progress=True,\n",
        "    )"
      ],
      "metadata": {
        "id": "O-W11SMA-Jjy"
      },
      "execution_count": null,
      "outputs": []
    },
    {
      "cell_type": "code",
      "source": [
        "sms_layers_2_remove = select_layers_to_prune(sms_importance, num_layers=3)\n",
        "print (sms_layers_2_remove)"
      ],
      "metadata": {
        "colab": {
          "base_uri": "https://localhost:8080/"
        },
        "id": "jBP1FdYJ2vt-",
        "outputId": "5f490543-aeb6-463b-91bd-f5ecdeda7617"
      },
      "execution_count": 37,
      "outputs": [
        {
          "output_type": "stream",
          "name": "stdout",
          "text": [
            "[4, 6, 8]\n"
          ]
        }
      ]
    },
    {
      "cell_type": "code",
      "source": [
        "sms_model = prune_model(\n",
        "        model=deepcopy(model),\n",
        "        pruning_type=\"DEPTH\",\n",
        "        layer_indices=sms_layers_2_remove,\n",
        "        show_progress=True,\n",
        "    )"
      ],
      "metadata": {
        "id": "yfweaMle3RJE"
      },
      "execution_count": null,
      "outputs": []
    },
    {
      "cell_type": "code",
      "source": [
        "wiki_model"
      ],
      "metadata": {
        "colab": {
          "base_uri": "https://localhost:8080/"
        },
        "id": "rQciMIKQDK-G",
        "outputId": "14fd874a-9f62-45e8-fc00-1c043fd80c35"
      },
      "execution_count": 39,
      "outputs": [
        {
          "output_type": "execute_result",
          "data": {
            "text/plain": [
              "Qwen3ForCausalLM(\n",
              "  (model): Qwen3Model(\n",
              "    (embed_tokens): Embedding(151936, 1024)\n",
              "    (layers): ModuleList(\n",
              "      (0-24): 25 x Qwen3DecoderLayer(\n",
              "        (self_attn): Qwen3Attention(\n",
              "          (q_proj): Linear(in_features=1024, out_features=2048, bias=False)\n",
              "          (k_proj): Linear(in_features=1024, out_features=1024, bias=False)\n",
              "          (v_proj): Linear(in_features=1024, out_features=1024, bias=False)\n",
              "          (o_proj): Linear(in_features=2048, out_features=1024, bias=False)\n",
              "          (q_norm): Qwen3RMSNorm((128,), eps=1e-06)\n",
              "          (k_norm): Qwen3RMSNorm((128,), eps=1e-06)\n",
              "        )\n",
              "        (mlp): Qwen3MLP(\n",
              "          (gate_proj): Linear(in_features=1024, out_features=3072, bias=False)\n",
              "          (up_proj): Linear(in_features=1024, out_features=3072, bias=False)\n",
              "          (down_proj): Linear(in_features=3072, out_features=1024, bias=False)\n",
              "          (act_fn): SiLU()\n",
              "        )\n",
              "        (input_layernorm): Qwen3RMSNorm((1024,), eps=1e-06)\n",
              "        (post_attention_layernorm): Qwen3RMSNorm((1024,), eps=1e-06)\n",
              "      )\n",
              "    )\n",
              "    (norm): Qwen3RMSNorm((1024,), eps=1e-06)\n",
              "    (rotary_emb): Qwen3RotaryEmbedding()\n",
              "  )\n",
              "  (lm_head): Linear(in_features=1024, out_features=151936, bias=False)\n",
              ")"
            ]
          },
          "metadata": {},
          "execution_count": 39
        }
      ]
    },
    {
      "cell_type": "markdown",
      "source": [
        "### Measuring Loss & Perplexity over SMS_Spam"
      ],
      "metadata": {
        "id": "lFLwjK26qlA3"
      }
    },
    {
      "cell_type": "code",
      "source": [
        "metrics_base_sms = evaluate_metrics(model, dataloadersms)"
      ],
      "metadata": {
        "id": "jFWgphnIsIrF"
      },
      "execution_count": null,
      "outputs": []
    },
    {
      "cell_type": "code",
      "source": [
        "metrics_sms_sms = evaluate_metrics(sms_model, dataloadersms)"
      ],
      "metadata": {
        "id": "Qp9YikouqvSz"
      },
      "execution_count": null,
      "outputs": []
    },
    {
      "cell_type": "code",
      "source": [
        "metrics_wiki_sms = evaluate_metrics(wiki_model, dataloadersms)"
      ],
      "metadata": {
        "id": "F72UuVeaq493"
      },
      "execution_count": null,
      "outputs": []
    },
    {
      "cell_type": "code",
      "source": [
        "metrics_base_sms"
      ],
      "metadata": {
        "colab": {
          "base_uri": "https://localhost:8080/"
        },
        "id": "AnQGsa5XsM5G",
        "outputId": "d83d438f-9a25-47f5-ab94-3942816fdc81"
      },
      "execution_count": 43,
      "outputs": [
        {
          "output_type": "execute_result",
          "data": {
            "text/plain": [
              "{'loss': 5.5108539093922815, 'perplexity': np.float64(247.36226186850521)}"
            ]
          },
          "metadata": {},
          "execution_count": 43
        }
      ]
    },
    {
      "cell_type": "code",
      "source": [
        "metrics_sms_sms"
      ],
      "metadata": {
        "colab": {
          "base_uri": "https://localhost:8080/"
        },
        "id": "Xek3kpH-rw_-",
        "outputId": "a7c207d5-638a-4db5-e297-9e9d883b9295"
      },
      "execution_count": 44,
      "outputs": [
        {
          "output_type": "execute_result",
          "data": {
            "text/plain": [
              "{'loss': 5.8666909315087805, 'perplexity': np.float64(353.0786834930951)}"
            ]
          },
          "metadata": {},
          "execution_count": 44
        }
      ]
    },
    {
      "cell_type": "code",
      "source": [
        "metrics_wiki_sms"
      ],
      "metadata": {
        "colab": {
          "base_uri": "https://localhost:8080/"
        },
        "id": "tsjLxt_FrygA",
        "outputId": "53803fe6-6480-4be5-be0c-4121c3f449c4"
      },
      "execution_count": 45,
      "outputs": [
        {
          "output_type": "execute_result",
          "data": {
            "text/plain": [
              "{'loss': 5.970062026408071, 'perplexity': np.float64(391.52995519351487)}"
            ]
          },
          "metadata": {},
          "execution_count": 45
        }
      ]
    },
    {
      "cell_type": "code",
      "source": [
        "model"
      ],
      "metadata": {
        "colab": {
          "base_uri": "https://localhost:8080/"
        },
        "id": "DwUu6ngir0Ab",
        "outputId": "858466cb-5d63-4d1a-b2fc-74bb4308d323"
      },
      "execution_count": 46,
      "outputs": [
        {
          "output_type": "execute_result",
          "data": {
            "text/plain": [
              "Qwen3ForCausalLM(\n",
              "  (model): Qwen3Model(\n",
              "    (embed_tokens): Embedding(151936, 1024)\n",
              "    (layers): ModuleList(\n",
              "      (0-27): 28 x Qwen3DecoderLayer(\n",
              "        (self_attn): Qwen3Attention(\n",
              "          (q_proj): Linear(in_features=1024, out_features=2048, bias=False)\n",
              "          (k_proj): Linear(in_features=1024, out_features=1024, bias=False)\n",
              "          (v_proj): Linear(in_features=1024, out_features=1024, bias=False)\n",
              "          (o_proj): Linear(in_features=2048, out_features=1024, bias=False)\n",
              "          (q_norm): Qwen3RMSNorm((128,), eps=1e-06)\n",
              "          (k_norm): Qwen3RMSNorm((128,), eps=1e-06)\n",
              "        )\n",
              "        (mlp): Qwen3MLP(\n",
              "          (gate_proj): Linear(in_features=1024, out_features=3072, bias=False)\n",
              "          (up_proj): Linear(in_features=1024, out_features=3072, bias=False)\n",
              "          (down_proj): Linear(in_features=3072, out_features=1024, bias=False)\n",
              "          (act_fn): SiLU()\n",
              "        )\n",
              "        (input_layernorm): Qwen3RMSNorm((1024,), eps=1e-06)\n",
              "        (post_attention_layernorm): Qwen3RMSNorm((1024,), eps=1e-06)\n",
              "      )\n",
              "    )\n",
              "    (norm): Qwen3RMSNorm((1024,), eps=1e-06)\n",
              "    (rotary_emb): Qwen3RotaryEmbedding()\n",
              "  )\n",
              "  (lm_head): Linear(in_features=1024, out_features=151936, bias=False)\n",
              ")"
            ]
          },
          "metadata": {},
          "execution_count": 46
        }
      ]
    },
    {
      "cell_type": "code",
      "source": [
        "\n",
        "\n",
        "metrics_base_wiki = evaluate_metrics(model, dataloaderwiki)\n",
        "metrics_wiki_wiki = evaluate_metrics(wiki_model, dataloaderwiki)\n",
        "metrics_sms_wiki = evaluate_metrics(sms_model, dataloaderwiki)"
      ],
      "metadata": {
        "id": "C2bRff2ctK3m"
      },
      "execution_count": null,
      "outputs": []
    },
    {
      "cell_type": "code",
      "source": [
        "metrics_base_wiki"
      ],
      "metadata": {
        "colab": {
          "base_uri": "https://localhost:8080/"
        },
        "id": "NWmIfzPgvZMd",
        "outputId": "94b11cd4-f4be-45f9-ebf1-6960f98ba33f"
      },
      "execution_count": 48,
      "outputs": [
        {
          "output_type": "execute_result",
          "data": {
            "text/plain": [
              "{'loss': 3.885453316861612, 'perplexity': np.float64(48.689009006301404)}"
            ]
          },
          "metadata": {},
          "execution_count": 48
        }
      ]
    },
    {
      "cell_type": "code",
      "source": [
        "metrics_wiki_wiki"
      ],
      "metadata": {
        "colab": {
          "base_uri": "https://localhost:8080/"
        },
        "id": "okIF5uK7vclc",
        "outputId": "18255eb5-949d-4a03-bc9f-97b3beeb7d0d"
      },
      "execution_count": 49,
      "outputs": [
        {
          "output_type": "execute_result",
          "data": {
            "text/plain": [
              "{'loss': 4.5554741016077065, 'perplexity': np.float64(95.151856191512)}"
            ]
          },
          "metadata": {},
          "execution_count": 49
        }
      ]
    },
    {
      "cell_type": "code",
      "source": [
        "metrics_sms_wiki"
      ],
      "metadata": {
        "colab": {
          "base_uri": "https://localhost:8080/"
        },
        "id": "WSy_yhdmvdoB",
        "outputId": "79c6e171-dffe-474f-8678-e4f587737ecd"
      },
      "execution_count": 50,
      "outputs": [
        {
          "output_type": "execute_result",
          "data": {
            "text/plain": [
              "{'loss': 4.576385707427099, 'perplexity': np.float64(97.16258481034235)}"
            ]
          },
          "metadata": {},
          "execution_count": 50
        }
      ]
    }
  ]
}